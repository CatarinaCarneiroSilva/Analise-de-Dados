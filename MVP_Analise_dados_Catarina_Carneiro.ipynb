{
  "cells": [
    {
      "cell_type": "markdown",
      "metadata": {
        "id": "view-in-github",
        "colab_type": "text"
      },
      "source": [
        "<a href=\"https://colab.research.google.com/github/CatarinaCarneiroSilva/Analise-de-Dados/blob/main/MVP_Analise_dados_Catarina_Carneiro.ipynb\" target=\"_parent\"><img src=\"https://colab.research.google.com/assets/colab-badge.svg\" alt=\"Open In Colab\"/></a>"
      ]
    },
    {
      "cell_type": "markdown",
      "metadata": {
        "id": "otEdveLq8Hn0"
      },
      "source": [
        "# MVP de Análise de Dados e Boas Práticas\n",
        "## Análise do Mercado de Trabalho no Setor Terciário na Paraíba\n",
        "\n",
        "### Catarina Carneiro da Silva"
      ]
    },
    {
      "cell_type": "markdown",
      "metadata": {
        "id": "z1PEQEdZ9zm4"
      },
      "source": [
        "#### 1. Definição do Problema"
      ]
    },
    {
      "cell_type": "markdown",
      "metadata": {
        "id": "HDcdO4yx9db6"
      },
      "source": [
        "Neste estudo analisarei os dados do mercado de trabalho, com foco no setor terciário (comércio, serviços e turismo) e na Paraíba, para trabalhar com um dataset menor.\n",
        "\n",
        "**Não há uma pergunta específica, apenas desejo verificar como o salário se comporta de acordo com o perfil dos colaboradores.**\n",
        "\n",
        "O dataset usado neste projeto são os microdados da **RAIS 2022 (Relação Anual de Informações Sociais)**, proveniente do Ministério do Trabalho.\n",
        "Essa base de informações é muito abrangente, podendo originar diversas inferências. No entanto, para limitar as opções e criar um estudo mais objetivo, utilizei um subconjunto da base original, considerando apenas algumas variáveis disponíveis."
      ]
    },
    {
      "cell_type": "markdown",
      "metadata": {
        "id": "rmHBahfF-cJL"
      },
      "source": [
        "Usarei o pacote Pandas (Python Data Analysis Library) para carregar o arquivo .csv elaborado com os microdados necessários.\n"
      ]
    },
    {
      "cell_type": "code",
      "execution_count": 1,
      "metadata": {
        "id": "RCn8CH4M7wF-"
      },
      "outputs": [],
      "source": [
        "# Imports\n",
        "import pandas as pd\n",
        "import numpy as np\n",
        "import seaborn as sns\n",
        "import math\n",
        "import matplotlib.pyplot as plt"
      ]
    },
    {
      "cell_type": "code",
      "execution_count": 2,
      "metadata": {
        "id": "dJpWLh52-aPE"
      },
      "outputs": [],
      "source": [
        "# configuração para não exibir os warnings\n",
        "import warnings\n",
        "warnings.filterwarnings(\"ignore\")"
      ]
    },
    {
      "cell_type": "code",
      "execution_count": 3,
      "metadata": {
        "colab": {
          "base_uri": "https://localhost:8080/"
        },
        "id": "29AFuCPtvG_i",
        "outputId": "ed6db665-fc8b-473b-e633-2c20c81351c8"
      },
      "outputs": [
        {
          "output_type": "stream",
          "name": "stdout",
          "text": [
            "   CNAE 2.0 Classe  Faixa Etária  Escolaridade após 2005  Idade  Raça Cor  \\\n",
            "0            84116             7                       1     62        99   \n",
            "1            84116             6                       1     46        99   \n",
            "2            84116             7                       1     50        99   \n",
            "3            84116             7                       1     60        99   \n",
            "4            84116             7                       1     59        99   \n",
            "\n",
            "   Sexo Trabalhador  uf  valor_remuneracao_media  \n",
            "0                 1  25                  1941.66  \n",
            "1                 1  25                  1246.83  \n",
            "2                 1  25                  2325.60  \n",
            "3                 1  25                  1805.24  \n",
            "4                 1  25                  2315.60  \n",
            "<class 'pandas.core.frame.DataFrame'>\n",
            "RangeIndex: 728139 entries, 0 to 728138\n",
            "Data columns (total 8 columns):\n",
            " #   Column                   Non-Null Count   Dtype  \n",
            "---  ------                   --------------   -----  \n",
            " 0   CNAE 2.0 Classe          728139 non-null  int64  \n",
            " 1   Faixa Etária             728139 non-null  int64  \n",
            " 2   Escolaridade após 2005   728139 non-null  int64  \n",
            " 3   Idade                    728139 non-null  int64  \n",
            " 4   Raça Cor                 728139 non-null  int64  \n",
            " 5   Sexo Trabalhador         728139 non-null  int64  \n",
            " 6   uf                       728139 non-null  int64  \n",
            " 7   valor_remuneracao_media  728139 non-null  float64\n",
            "dtypes: float64(1), int64(7)\n",
            "memory usage: 44.4 MB\n",
            "None\n"
          ]
        }
      ],
      "source": [
        "# Carrega arquivo csv\n",
        "url = \"https://raw.githubusercontent.com/CatarinaCarneiroSilva/Analise-de-Dados/main/rais2002_cat_uf25.csv\"\n",
        "rais2022 = pd.read_csv(url,delimiter=';')\n",
        "print(rais2022.head())\n",
        "print(rais2022.info())"
      ]
    },
    {
      "cell_type": "code",
      "source": [
        "# Verifica se há valores nulos\n",
        "nulos = rais2022.isnull().sum()\n",
        "print(nulos)"
      ],
      "metadata": {
        "colab": {
          "base_uri": "https://localhost:8080/"
        },
        "id": "FfcAAiFnMr-W",
        "outputId": "76f1c8c7-c340-4512-f10d-a05666f42b6a"
      },
      "execution_count": null,
      "outputs": [
        {
          "output_type": "stream",
          "name": "stdout",
          "text": [
            "CNAE 2.0 Classe            0\n",
            "Faixa Etária               0\n",
            "Escolaridade após 2005     0\n",
            "Idade                      0\n",
            "Raça Cor                   0\n",
            "Sexo Trabalhador           0\n",
            "uf                         0\n",
            "valor_remuneracao_media    0\n",
            "dtype: int64\n"
          ]
        }
      ]
    },
    {
      "cell_type": "markdown",
      "source": [
        "Ao observar as informações da tabela, pode-se perceber que o Dataframe possui 728.139 itens, com nenhum atributo apresentando dados nulos. São considerados números inteiros, menos a remuneração, que possui decimais, portanto não preciso me preocupar em converter varáveis categóricas."
      ],
      "metadata": {
        "id": "DmgEo1ZOtG1r"
      }
    },
    {
      "cell_type": "markdown",
      "metadata": {
        "id": "2PcB0Efd-MS4"
      },
      "source": [
        "#### 2. Catálogos de Dados"
      ]
    },
    {
      "cell_type": "markdown",
      "source": [
        "**CNAE 2.0 Classe** - CNAE da atividade do emprego segundo a classificação 2.0 com a segmentação por classe. Neste momento encontram-se todas as CNAES registradas na RAIS, no entanto para analisar somente o setor terciário, como pretendido, terei que filtrar apenas as classes entre 45111 e 69206 na próxima etapa."
      ],
      "metadata": {
        "id": "uKsOIA6egJHc"
      }
    },
    {
      "cell_type": "code",
      "source": [
        "print(rais2022['CNAE 2.0 Classe'].describe())"
      ],
      "metadata": {
        "colab": {
          "base_uri": "https://localhost:8080/"
        },
        "id": "Wy09aefd0c56",
        "outputId": "1ff98458-03a8-4af2-8002-6be107007f98"
      },
      "execution_count": 4,
      "outputs": [
        {
          "output_type": "stream",
          "name": "stdout",
          "text": [
            "count    728139.00000\n",
            "mean      63684.78560\n",
            "std       25442.92279\n",
            "min         977.00000\n",
            "25%       46931.00000\n",
            "50%       81214.00000\n",
            "75%       84116.00000\n",
            "max       97005.00000\n",
            "Name: CNAE 2.0 Classe, dtype: float64\n"
          ]
        }
      ]
    },
    {
      "cell_type": "markdown",
      "source": [
        "**Faixa Etária** - Faixa de idade do funcionário, valores esperados:\n",
        "\n",
        "1-entre 10 a 14 anos/\n",
        "\n",
        "2-entre 15 a 17 anos/\n",
        "\n",
        "3-entre 18 a 24 anos/\n",
        "\n",
        "4-entre 25 a 29 anos/\n",
        "\n",
        "5-entre 30 a 39 anos/\n",
        "\n",
        "6-entre 40 a 49 anos/\n",
        "\n",
        "7-entre 50 a 64 anos/\n",
        "\n",
        "8-65 anos ou mais."
      ],
      "metadata": {
        "id": "6jmNhT8VgZqU"
      }
    },
    {
      "cell_type": "code",
      "source": [
        "print(rais2022['Faixa Etária']\n",
        "      .value_counts()\n",
        "      .to_frame('Contagem')\n",
        "      .assign(Porcentagem=lambda x: (x['Contagem'] / x['Contagem'].sum() * 100).round()))"
      ],
      "metadata": {
        "colab": {
          "base_uri": "https://localhost:8080/"
        },
        "id": "WzFT7IG6gbuU",
        "outputId": "386bb8e0-760d-41f5-aeed-6dd396c0daf4"
      },
      "execution_count": 5,
      "outputs": [
        {
          "output_type": "stream",
          "name": "stdout",
          "text": [
            "              Contagem  Porcentagem\n",
            "Faixa Etária                       \n",
            "5               217182         30.0\n",
            "6               185488         25.0\n",
            "7               135383         19.0\n",
            "4                95087         13.0\n",
            "3                77788         11.0\n",
            "8                16434          2.0\n",
            "2                  764          0.0\n",
            "1                   13          0.0\n"
          ]
        }
      ]
    },
    {
      "cell_type": "markdown",
      "source": [
        "Pode-se perceber que a maior parte (55%) do quadro de funcionários brasileiro concentra-se entre 30 e 49 anos, quando o ser humano está no auge do seu vigor físico e intelectual. Por outro lado, a menor parte corresponde as pessoas entre 10 a 14 anos, coerente por serem menores de idade e, portanto, este valor deveria estar até mesmo zerado. Na próxima etapa irei exclui esse grupo, já que é um percentual pequeno e não faz sentido legalmente."
      ],
      "metadata": {
        "id": "VZrrORQzNl-x"
      }
    },
    {
      "cell_type": "markdown",
      "source": [
        "**Escolaridade após 2005** - Escolaridade do funcionário, valores esperados:\n",
        "\n",
        "1-Analfabeto\n",
        "\n",
        "2-Até 5ª Incompleto\n",
        "\n",
        "3-5ª Completo Fundamental\n",
        "\n",
        "4-6ª a 9ª Fundamental\n",
        "\n",
        "5-Fundamental Completo\n",
        "\n",
        "6-Médio Incompleto\n",
        "\n",
        "7-Médio Completo\n",
        "\n",
        "8-Superior Incompleto\n",
        "\n",
        "9-Superior Completo\n",
        "\n",
        "10-Mestrado\n",
        "\n",
        "11-Doutorado"
      ],
      "metadata": {
        "id": "8sWjsygpgm_v"
      }
    },
    {
      "cell_type": "code",
      "source": [
        "print(rais2022['Escolaridade após 2005']\n",
        "      .value_counts()\n",
        "      .to_frame('Contagem')\n",
        "      .assign(Porcentagem=lambda x: (x['Contagem'] / x['Contagem'].sum() * 100).round()))"
      ],
      "metadata": {
        "colab": {
          "base_uri": "https://localhost:8080/"
        },
        "id": "mKJM21U9go6-",
        "outputId": "24646974-686a-4a49-c347-789c1306c9c2"
      },
      "execution_count": 6,
      "outputs": [
        {
          "output_type": "stream",
          "name": "stdout",
          "text": [
            "                        Contagem  Porcentagem\n",
            "Escolaridade após 2005                       \n",
            "7                         341108         47.0\n",
            "9                         155056         21.0\n",
            "5                          95389         13.0\n",
            "6                          30945          4.0\n",
            "4                          28182          4.0\n",
            "8                          25688          4.0\n",
            "2                          20885          3.0\n",
            "3                          13345          2.0\n",
            "10                          7665          1.0\n",
            "1                           6755          1.0\n",
            "11                          3121          0.0\n"
          ]
        }
      ]
    },
    {
      "cell_type": "markdown",
      "source": [
        "Pode-se perceber que a maior parte (47%) do quadro de funcionários brasileiro concentra-se no ensino médio completo, enquanto a menor parcela possui Doutorado. Apesar de ser um nível superior, as opções de emprego para os doutorandos são mais limitadas, o que explica esse resultado, além de ter menos pessoas que conseguem alcançar essa escolaridade."
      ],
      "metadata": {
        "id": "eOUPj2W-OrRg"
      }
    },
    {
      "cell_type": "markdown",
      "source": [
        "**Idade** - Idade do funcionário."
      ],
      "metadata": {
        "id": "keWFtF0Dgwy2"
      }
    },
    {
      "cell_type": "code",
      "source": [
        "print(rais2022['Idade'].describe())"
      ],
      "metadata": {
        "colab": {
          "base_uri": "https://localhost:8080/"
        },
        "id": "DlzKWz1OgyM9",
        "outputId": "fd04fcde-4d37-499a-d9e7-e30aa8ce1717"
      },
      "execution_count": 7,
      "outputs": [
        {
          "output_type": "stream",
          "name": "stdout",
          "text": [
            "count    728139.000000\n",
            "mean         39.304055\n",
            "std          11.915831\n",
            "min          13.000000\n",
            "25%          30.000000\n",
            "50%          38.000000\n",
            "75%          47.000000\n",
            "max          96.000000\n",
            "Name: Idade, dtype: float64\n"
          ]
        }
      ]
    },
    {
      "cell_type": "markdown",
      "source": [
        "Por conter valores próximos de 96 e 13 anos, essa série causa estranhamento, assim como o grupo 1 da Faixa Etária. Por isso, gera necessidade de atenção ao se trabalhar com esses dados."
      ],
      "metadata": {
        "id": "fTCP_N62Pd3Y"
      }
    },
    {
      "cell_type": "code",
      "source": [
        "contagem_idades = rais2022['Idade'].value_counts()\n",
        "\n",
        "# Filtrar as idades 13 e 96\n",
        "contagem_13 = contagem_idades.get(13, 0)\n",
        "contagem_96 = contagem_idades.get(96, 0)\n",
        "\n",
        "# Exibir os resultados\n",
        "print(f'Pessoas com 13 anos: {contagem_13}')\n",
        "print(f'Pessoas com 96 anos: {contagem_96}')"
      ],
      "metadata": {
        "colab": {
          "base_uri": "https://localhost:8080/"
        },
        "id": "Myx21LDoFZwL",
        "outputId": "c33a3cef-372b-4d54-9762-9a25694a97d5"
      },
      "execution_count": 8,
      "outputs": [
        {
          "output_type": "stream",
          "name": "stdout",
          "text": [
            "Pessoas com 13 anos: 1\n",
            "Pessoas com 96 anos: 1\n"
          ]
        }
      ]
    },
    {
      "cell_type": "code",
      "source": [
        "# Criar o histograma\n",
        "plt.hist(rais2022['Idade'], bins=range(0, 101), edgecolor='black')\n",
        "\n",
        "# Adicionar título e rótulos\n",
        "plt.title('Distribuição de Idades')\n",
        "plt.xlabel('Idade')\n",
        "plt.ylabel('Frequência')\n",
        "\n",
        "# Exibir o gráfico\n",
        "plt.show()"
      ],
      "metadata": {
        "colab": {
          "base_uri": "https://localhost:8080/",
          "height": 472
        },
        "id": "Bbz9kYsjJFh-",
        "outputId": "1e8ad176-3484-4cbe-dab5-2c337a608107"
      },
      "execution_count": 9,
      "outputs": [
        {
          "output_type": "display_data",
          "data": {
            "text/plain": [
              "<Figure size 640x480 with 1 Axes>"
            ],
            "image/png": "[encoded data removed]"
          },
          "metadata": {}
        }
      ]
    },
    {
      "cell_type": "markdown",
      "source": [
        " Ao observar com maior atenção, apenas uma pessoa corresponde a 13 anos e 1 com 96. Ou seja, apesar de ser estranho, está em pouca quantidade e o histograma confirma a menor frequência dentre os mais velhos.\n",
        "\n",
        " De qualquer forma, como já possuo dentre os meus atributos a Faixa Etária, que consegue agregar melhor os colaborados, irei excluir essa coluna para não ter dados repetidos."
      ],
      "metadata": {
        "id": "WBXMcQ8XFtaj"
      }
    },
    {
      "cell_type": "markdown",
      "source": [
        "**Raça Cor** - Raça/cor segundo funcionário, valores esperados:\n",
        "\n",
        "1-Indígena\n",
        "\n",
        "2- Branca\n",
        "\n",
        "4- Preta\n",
        "\n",
        "6- Amarela\n",
        "\n",
        "8- Parda\n",
        "\n",
        "9- Não informado"
      ],
      "metadata": {
        "id": "jLqsb98Sg8Ce"
      }
    },
    {
      "cell_type": "code",
      "source": [
        "print(rais2022['Raça Cor']\n",
        "      .value_counts()\n",
        "      .to_frame('Contagem')\n",
        "      .assign(Porcentagem=lambda x: (x['Contagem'] / x['Contagem'].sum() * 100).round()))"
      ],
      "metadata": {
        "colab": {
          "base_uri": "https://localhost:8080/"
        },
        "id": "c8bU3UTSg_qm",
        "outputId": "dd95f327-f7c3-4ddd-b3d0-b74327037cde"
      },
      "execution_count": 10,
      "outputs": [
        {
          "output_type": "stream",
          "name": "stdout",
          "text": [
            "          Contagem  Porcentagem\n",
            "Raça Cor                       \n",
            "99          255258         35.0\n",
            "8           254370         35.0\n",
            "2           102897         14.0\n",
            "9            95453         13.0\n",
            "4            15933          2.0\n",
            "6             3604          0.0\n",
            "1              624          0.0\n"
          ]
        }
      ]
    },
    {
      "cell_type": "markdown",
      "source": [
        "Na base de dados também encontrei a categoria 99, que são os dados informados como ignorados, tendo até mesmo uma grande proporção (35%). Na próxima etapa precisarei filtrar essas informações assim como a categoria 9 (não informado), que também representa uma parte considerável da amostra (13%).\n",
        "\n",
        "Pode-se perceber que a maior parte (35%) do quadro de funcionários brasileiro se consideram pardos."
      ],
      "metadata": {
        "id": "zGebPxBMP31C"
      }
    },
    {
      "cell_type": "markdown",
      "source": [
        "**Sexo** - Gênero segundo funcionário, valores esperados:\n",
        "\n",
        "1- Masculino\n",
        "\n",
        "2- Feminino\n",
        "\n",
        "9- Ignorado"
      ],
      "metadata": {
        "id": "cyEBP1d7hN0B"
      }
    },
    {
      "cell_type": "code",
      "source": [
        "print(rais2022['Sexo Trabalhador']\n",
        "      .value_counts()\n",
        "      .to_frame('Contagem')\n",
        "      .assign(Porcentagem=lambda x: (x['Contagem'] / x['Contagem'].sum() * 100).round()))"
      ],
      "metadata": {
        "colab": {
          "base_uri": "https://localhost:8080/"
        },
        "id": "0xzkubHahPfZ",
        "outputId": "b83fb224-3d49-448e-b5f9-71ae8a8349e5"
      },
      "execution_count": 11,
      "outputs": [
        {
          "output_type": "stream",
          "name": "stdout",
          "text": [
            "                  Contagem  Porcentagem\n",
            "Sexo Trabalhador                       \n",
            "1                   411649         57.0\n",
            "2                   316490         43.0\n"
          ]
        }
      ]
    },
    {
      "cell_type": "markdown",
      "source": [
        "Apesar de ter a opção 9, ela não aparece nos resultados da Paraíba.\n",
        "Pode-se perceber que a maior parte (57%) do quadro de funcionários brasileiro no Estado concentra-se no público masculino. Portanto, a discrepância entre os gêneros corresponde a 14 pontos percentuais."
      ],
      "metadata": {
        "id": "CPSJHKV9Qfs6"
      }
    },
    {
      "cell_type": "markdown",
      "source": [
        "**UF** - Apenas o estado da Paraíba, com código 25, foi selecionado, portanto a série não irá demonstrar variação. Esse atributo será excluído na próxima etapa."
      ],
      "metadata": {
        "id": "EZPlebuohkZR"
      }
    },
    {
      "cell_type": "code",
      "source": [
        "print(rais2022['uf'].describe())"
      ],
      "metadata": {
        "colab": {
          "base_uri": "https://localhost:8080/"
        },
        "id": "Ts01gsX9hxUR",
        "outputId": "b8996696-d10b-43a6-e60f-340d97ddde55"
      },
      "execution_count": 12,
      "outputs": [
        {
          "output_type": "stream",
          "name": "stdout",
          "text": [
            "count    728139.0\n",
            "mean         25.0\n",
            "std           0.0\n",
            "min          25.0\n",
            "25%          25.0\n",
            "50%          25.0\n",
            "75%          25.0\n",
            "max          25.0\n",
            "Name: uf, dtype: float64\n"
          ]
        }
      ]
    },
    {
      "cell_type": "markdown",
      "source": [
        "**Valor_Remuneração_Média** - Remuneração média dos funcionários."
      ],
      "metadata": {
        "id": "fkvYWQjmiFbp"
      }
    },
    {
      "cell_type": "code",
      "source": [
        "# Formatação da remuneração\n",
        "pd.options.display.float_format = '{:,.2f}'.format\n",
        "\n",
        "print(rais2022['valor_remuneracao_media'].describe())"
      ],
      "metadata": {
        "colab": {
          "base_uri": "https://localhost:8080/"
        },
        "id": "yE3BDLJhiE5q",
        "outputId": "7e236158-6b6f-4ef7-fcbe-c79a7fcfd67e"
      },
      "execution_count": 13,
      "outputs": [
        {
          "output_type": "stream",
          "name": "stdout",
          "text": [
            "count     728,139.00\n",
            "mean        2,875.58\n",
            "std         8,367.04\n",
            "min             0.00\n",
            "25%         1,287.50\n",
            "50%         1,625.17\n",
            "75%         2,645.61\n",
            "max     2,350,575.09\n",
            "Name: valor_remuneracao_media, dtype: float64\n"
          ]
        }
      ]
    },
    {
      "cell_type": "markdown",
      "source": [
        " O valor média recebido pelos brasileiros em geral corresponde a R$ 2.875,58. Enquanto uma parcela está com rendimentos zerados e outra recebendo mais de dois milhões, o que são números estranhos e precisam ser melhor analisados."
      ],
      "metadata": {
        "id": "qGLfA9P5RLar"
      }
    },
    {
      "cell_type": "code",
      "source": [
        "# Variáveis valores mínimo e máximo\n",
        "valor_minimo = rais2022['valor_remuneracao_media'].min()\n",
        "valor_maximo = rais2022['valor_remuneracao_media'].max()\n",
        "\n",
        "# Contar quantas pessoas recebem o valor mínimo e máximo\n",
        "contagem_minimo = (rais2022['valor_remuneracao_media'] == valor_minimo).sum()\n",
        "contagem_maximo = (rais2022['valor_remuneracao_media'] == valor_maximo).sum()\n",
        "\n",
        "# Exibir os resultados\n",
        "print(f'Pessoas que recebem o valor mínimo ({valor_minimo}): {contagem_minimo}')\n",
        "print(f'Pessoas que recebem o valor máximo ({valor_maximo}): {contagem_maximo}')"
      ],
      "metadata": {
        "colab": {
          "base_uri": "https://localhost:8080/"
        },
        "id": "3cCfokZiMrsr",
        "outputId": "38ad81fe-9d10-496d-87a2-d62d54ece3b0"
      },
      "execution_count": 14,
      "outputs": [
        {
          "output_type": "stream",
          "name": "stdout",
          "text": [
            "Pessoas que recebem o valor mínimo (0.0): 32620\n",
            "Pessoas que recebem o valor máximo (2350575.09): 1\n"
          ]
        }
      ]
    },
    {
      "cell_type": "markdown",
      "source": [
        "Apenas uma pessoa recebe esse valor máximo e 32.620 (aproximadamente 4% do total) possuem salário zerado, portanto, irei verificar a possibilidade de outliers."
      ],
      "metadata": {
        "id": "shGdW19LOC0Q"
      }
    },
    {
      "cell_type": "code",
      "source": [
        "plt.figure(figsize=(10, 6))\n",
        "sns.boxplot(x=rais2022['valor_remuneracao_media'])\n",
        "plt.title('Boxplot da Remuneração')\n",
        "plt.xlabel('Remuneração')\n",
        "plt.grid(axis='x', alpha=0.75)\n",
        "plt.show()"
      ],
      "metadata": {
        "colab": {
          "base_uri": "https://localhost:8080/",
          "height": 564
        },
        "id": "FPtXPUfDi7kC",
        "outputId": "6e7cc3e6-1d01-4ba1-8aba-3ae9ac28c58c"
      },
      "execution_count": 15,
      "outputs": [
        {
          "output_type": "display_data",
          "data": {
            "text/plain": [
              "<Figure size 1000x600 with 1 Axes>"
            ],
            "image/png": "[encoded data removed]"
          },
          "metadata": {}
        }
      ]
    },
    {
      "cell_type": "markdown",
      "source": [
        "A série apresenta alguns valores discrepantes, no entanto, como quero capturar a realidade do mercado de trabalho e suas desigualdades, irei retirar apenas o valor zero, pois não é muito realístico. Como pretendo analisar os valores exatos das remunerações, também não será necessária a discretização."
      ],
      "metadata": {
        "id": "1MG2tD9QjV40"
      }
    },
    {
      "cell_type": "markdown",
      "source": [
        "#### 3. Preparação de Dados"
      ],
      "metadata": {
        "id": "HR_DIzqdiWHt"
      }
    },
    {
      "cell_type": "markdown",
      "metadata": {
        "id": "sjG6TGTNRYVl"
      },
      "source": [
        "Para facilitar a análise e limpar a base de dados farei as transformações necessárias observadas ao se estudar as variáveis. Primeiro, como todos os dados são pertencentes a mesma UF, deletarei essa coluna. Em seguida, excluirei a coluna idade, já que os dados parecem estranhos (trabalhadores com 13 e 96 anos)  e na coluna Faixa Etária os valores já aparecem agrupados, o que facilita a análise e oferece maior credibilidade ao resultado.\n",
        "\n",
        "Para trabalhar apenas o setor terciário, como pretendido, filtrarei a coluna CNAE para conter apenas as CNAES desse setor (entre as classes 45111 e 69206).\n",
        "\n",
        "Para limpar o dataset, excluirei os seguintes dados: raça com informações ignoradas e não informadas, grupo 1 da Faixa Etária e o valor mínimo da remuneração.\n",
        "\n",
        "Essas alterações serão realizadas em uma cópia do arquivo original, para que as informações não sejam perdidas, caso precisem ser acessadas em um próximo momento.\n",
        "\n",
        "Não irei fazer nenhuma transformação nos dados porque pretendo analisar os números absolutos, assim como suas discrepâncias, por isso não será necessário normalizar, padronizar ou ajustar outliers de nenhuma série."
      ]
    },
    {
      "cell_type": "code",
      "execution_count": 16,
      "metadata": {
        "colab": {
          "base_uri": "https://localhost:8080/"
        },
        "id": "o211D-rgRvtW",
        "outputId": "855cc22d-418c-4715-8636-0aaa2c954e48"
      },
      "outputs": [
        {
          "output_type": "stream",
          "name": "stdout",
          "text": [
            "   CNAE 2.0 Classe  Faixa Etária  Escolaridade após 2005  Raça Cor  \\\n",
            "0            84116             7                       1        99   \n",
            "1            84116             6                       1        99   \n",
            "2            84116             7                       1        99   \n",
            "3            84116             7                       1        99   \n",
            "4            84116             7                       1        99   \n",
            "\n",
            "   Sexo Trabalhador  valor_remuneracao_media  \n",
            "0                 1                 1,941.66  \n",
            "1                 1                 1,246.83  \n",
            "2                 1                 2,325.60  \n",
            "3                 1                 1,805.24  \n",
            "4                 1                 2,315.60  \n"
          ]
        }
      ],
      "source": [
        "# Cria uma cópia de rais2022\n",
        "rais2022_prep = rais2022.copy()\n",
        "\n",
        "# Deletar coluna UF e Idade\n",
        "del rais2022_prep['uf']\n",
        "del rais2022_prep['Idade']\n",
        "\n",
        "print(rais2022_prep.head())"
      ]
    },
    {
      "cell_type": "code",
      "execution_count": 17,
      "metadata": {
        "colab": {
          "base_uri": "https://localhost:8080/"
        },
        "id": "H4CByoutUSq7",
        "outputId": "01d12681-c875-4f40-8421-dca5a1c779e8"
      },
      "outputs": [
        {
          "output_type": "stream",
          "name": "stdout",
          "text": [
            "     CNAE 2.0 Classe  Faixa Etária  Escolaridade após 2005  Raça Cor  \\\n",
            "237            46796             5                       1         2   \n",
            "258            47555             6                       1         2   \n",
            "274            62015             3                       1         2   \n",
            "282            46796             4                       1         2   \n",
            "283            46796             6                       1         2   \n",
            "\n",
            "     Sexo Trabalhador  valor_remuneracao_media  \n",
            "237                 1                 1,249.32  \n",
            "258                 1                 1,293.60  \n",
            "274                 1                 8,670.00  \n",
            "282                 1                 1,255.18  \n",
            "283                 1                 1,309.98  \n"
          ]
        }
      ],
      "source": [
        "# Filtrar coluna CNAE 2.0 Classe, Sexo Trabalhador, Raça Cor, Faixa Etária e Remuneração\n",
        "rais2022_prep = rais2022_prep[(rais2022_prep['CNAE 2.0 Classe'] >= 45111) & (rais2022_prep['CNAE 2.0 Classe'] <= 69206)]\n",
        "rais2022_prep = rais2022_prep[(rais2022_prep['Raça Cor'] != 9) & (rais2022_prep['Raça Cor'] != 99)]\n",
        "rais2022_prep = rais2022_prep[(rais2022_prep['Faixa Etária'] != 1)]\n",
        "rais2022_prep = rais2022_prep[(rais2022_prep['valor_remuneracao_media'] != valor_minimo)]\n",
        "\n",
        "print(rais2022_prep.head())"
      ]
    },
    {
      "cell_type": "markdown",
      "metadata": {
        "id": "bqINv-wo_Xfe"
      },
      "source": [
        "###### 3.1. Estatísticas Descritivas"
      ]
    },
    {
      "cell_type": "code",
      "execution_count": 18,
      "metadata": {
        "colab": {
          "base_uri": "https://localhost:8080/"
        },
        "id": "zF3f00Zl_g7j",
        "outputId": "0be3ac42-e6c2-4412-aa1a-79021b824590"
      },
      "outputs": [
        {
          "output_type": "stream",
          "name": "stdout",
          "text": [
            "(728139, 8)\n",
            "(128468, 6)\n"
          ]
        }
      ],
      "source": [
        "# Dimensões dos datasets\n",
        "print(rais2022.shape)\n",
        "print(rais2022_prep.shape)"
      ]
    },
    {
      "cell_type": "code",
      "execution_count": 19,
      "metadata": {
        "colab": {
          "base_uri": "https://localhost:8080/"
        },
        "id": "UUjmUTEOwQZt",
        "outputId": "b55c3264-367e-4437-b5e0-1bc8f3d3be1f"
      },
      "outputs": [
        {
          "output_type": "stream",
          "name": "stdout",
          "text": [
            "<class 'pandas.core.frame.DataFrame'>\n",
            "Index: 128468 entries, 237 to 728138\n",
            "Data columns (total 6 columns):\n",
            " #   Column                   Non-Null Count   Dtype  \n",
            "---  ------                   --------------   -----  \n",
            " 0   CNAE 2.0 Classe          128468 non-null  int64  \n",
            " 1   Faixa Etária             128468 non-null  int64  \n",
            " 2   Escolaridade após 2005   128468 non-null  int64  \n",
            " 3   Raça Cor                 128468 non-null  int64  \n",
            " 4   Sexo Trabalhador         128468 non-null  int64  \n",
            " 5   valor_remuneracao_media  128468 non-null  float64\n",
            "dtypes: float64(1), int64(5)\n",
            "memory usage: 6.9 MB\n",
            "None\n"
          ]
        }
      ],
      "source": [
        "# Informações do dataset\n",
        "print(rais2022_prep.info())"
      ]
    },
    {
      "cell_type": "code",
      "source": [
        "# Verifica se há valores nulos\n",
        "nulos = rais2022_prep.isnull().sum()\n",
        "print(nulos)"
      ],
      "metadata": {
        "colab": {
          "base_uri": "https://localhost:8080/"
        },
        "id": "uvr2MFqeUHSv",
        "outputId": "b7a383b0-e3e6-4697-fa23-6724daba8848"
      },
      "execution_count": 20,
      "outputs": [
        {
          "output_type": "stream",
          "name": "stdout",
          "text": [
            "CNAE 2.0 Classe            0\n",
            "Faixa Etária               0\n",
            "Escolaridade após 2005     0\n",
            "Raça Cor                   0\n",
            "Sexo Trabalhador           0\n",
            "valor_remuneracao_media    0\n",
            "dtype: int64\n"
          ]
        }
      ]
    },
    {
      "cell_type": "markdown",
      "source": [
        "Examinando as dimensões do novo dataset, restaram 6 variáveis com 128.468 registros. As variáveis continuam como numerais, com a receita podendo conter decimais, e sem dados nulos."
      ],
      "metadata": {
        "id": "w0MGMFYOT0tn"
      }
    },
    {
      "cell_type": "code",
      "execution_count": 21,
      "metadata": {
        "colab": {
          "base_uri": "https://localhost:8080/",
          "height": 300
        },
        "id": "7NKdYewownzG",
        "outputId": "b2171166-a93b-4137-95f3-0c51b542c60e"
      },
      "outputs": [
        {
          "output_type": "execute_result",
          "data": {
            "text/plain": [
              "       CNAE 2.0 Classe  Faixa Etária  Escolaridade após 2005      Idade  \\\n",
              "count       728,139.00    728,139.00              728,139.00 728,139.00   \n",
              "mean         63,684.79          5.35                    6.82      39.30   \n",
              "std          25,442.92          1.28                    1.81      11.92   \n",
              "min             977.00          1.00                    1.00      13.00   \n",
              "25%          46,931.00          5.00                    6.00      30.00   \n",
              "50%          81,214.00          5.00                    7.00      38.00   \n",
              "75%          84,116.00          6.00                    8.00      47.00   \n",
              "max          97,005.00          8.00                   11.00      96.00   \n",
              "\n",
              "        Raça Cor  Sexo Trabalhador         uf  valor_remuneracao_media  \n",
              "count 728,139.00        728,139.00 728,139.00               728,139.00  \n",
              "mean       39.08              1.43      25.00                 2,875.58  \n",
              "std        44.08              0.50       0.00                 8,367.04  \n",
              "min         1.00              1.00      25.00                     0.00  \n",
              "25%         8.00              1.00      25.00                 1,287.50  \n",
              "50%         8.00              1.00      25.00                 1,625.17  \n",
              "75%        99.00              2.00      25.00                 2,645.61  \n",
              "max        99.00              2.00      25.00             2,350,575.09  "
            ],
            "text/html": [
              "\n",
              "  <div id=\"df-4dbc2ab1-51f7-4328-826e-f4ae19c5f8f5\" class=\"colab-df-container\">\n",
              "    <div>\n",
              "<style scoped>\n",
              "    .dataframe tbody tr th:only-of-type {\n",
              "        vertical-align: middle;\n",
              "    }\n",
              "\n",
              "    .dataframe tbody tr th {\n",
              "        vertical-align: top;\n",
              "    }\n",
              "\n",
              "    .dataframe thead th {\n",
              "        text-align: right;\n",
              "    }\n",
              "</style>\n",
              "<table border=\"1\" class=\"dataframe\">\n",
              "  <thead>\n",
              "    <tr style=\"text-align: right;\">\n",
              "      <th></th>\n",
              "      <th>CNAE 2.0 Classe</th>\n",
              "      <th>Faixa Etária</th>\n",
              "      <th>Escolaridade após 2005</th>\n",
              "      <th>Idade</th>\n",
              "      <th>Raça Cor</th>\n",
              "      <th>Sexo Trabalhador</th>\n",
              "      <th>uf</th>\n",
              "      <th>valor_remuneracao_media</th>\n",
              "    </tr>\n",
              "  </thead>\n",
              "  <tbody>\n",
              "    <tr>\n",
              "      <th>count</th>\n",
              "      <td>728,139.00</td>\n",
              "      <td>728,139.00</td>\n",
              "      <td>728,139.00</td>\n",
              "      <td>728,139.00</td>\n",
              "      <td>728,139.00</td>\n",
              "      <td>728,139.00</td>\n",
              "      <td>728,139.00</td>\n",
              "      <td>728,139.00</td>\n",
              "    </tr>\n",
              "    <tr>\n",
              "      <th>mean</th>\n",
              "      <td>63,684.79</td>\n",
              "      <td>5.35</td>\n",
              "      <td>6.82</td>\n",
              "      <td>39.30</td>\n",
              "      <td>39.08</td>\n",
              "      <td>1.43</td>\n",
              "      <td>25.00</td>\n",
              "      <td>2,875.58</td>\n",
              "    </tr>\n",
              "    <tr>\n",
              "      <th>std</th>\n",
              "      <td>25,442.92</td>\n",
              "      <td>1.28</td>\n",
              "      <td>1.81</td>\n",
              "      <td>11.92</td>\n",
              "      <td>44.08</td>\n",
              "      <td>0.50</td>\n",
              "      <td>0.00</td>\n",
              "      <td>8,367.04</td>\n",
              "    </tr>\n",
              "    <tr>\n",
              "      <th>min</th>\n",
              "      <td>977.00</td>\n",
              "      <td>1.00</td>\n",
              "      <td>1.00</td>\n",
              "      <td>13.00</td>\n",
              "      <td>1.00</td>\n",
              "      <td>1.00</td>\n",
              "      <td>25.00</td>\n",
              "      <td>0.00</td>\n",
              "    </tr>\n",
              "    <tr>\n",
              "      <th>25%</th>\n",
              "      <td>46,931.00</td>\n",
              "      <td>5.00</td>\n",
              "      <td>6.00</td>\n",
              "      <td>30.00</td>\n",
              "      <td>8.00</td>\n",
              "      <td>1.00</td>\n",
              "      <td>25.00</td>\n",
              "      <td>1,287.50</td>\n",
              "    </tr>\n",
              "    <tr>\n",
              "      <th>50%</th>\n",
              "      <td>81,214.00</td>\n",
              "      <td>5.00</td>\n",
              "      <td>7.00</td>\n",
              "      <td>38.00</td>\n",
              "      <td>8.00</td>\n",
              "      <td>1.00</td>\n",
              "      <td>25.00</td>\n",
              "      <td>1,625.17</td>\n",
              "    </tr>\n",
              "    <tr>\n",
              "      <th>75%</th>\n",
              "      <td>84,116.00</td>\n",
              "      <td>6.00</td>\n",
              "      <td>8.00</td>\n",
              "      <td>47.00</td>\n",
              "      <td>99.00</td>\n",
              "      <td>2.00</td>\n",
              "      <td>25.00</td>\n",
              "      <td>2,645.61</td>\n",
              "    </tr>\n",
              "    <tr>\n",
              "      <th>max</th>\n",
              "      <td>97,005.00</td>\n",
              "      <td>8.00</td>\n",
              "      <td>11.00</td>\n",
              "      <td>96.00</td>\n",
              "      <td>99.00</td>\n",
              "      <td>2.00</td>\n",
              "      <td>25.00</td>\n",
              "      <td>2,350,575.09</td>\n",
              "    </tr>\n",
              "  </tbody>\n",
              "</table>\n",
              "</div>\n",
              "    <div class=\"colab-df-buttons\">\n",
              "\n",
              "  <div class=\"colab-df-container\">\n",
              "    <button class=\"colab-df-convert\" onclick=\"convertToInteractive('df-4dbc2ab1-51f7-4328-826e-f4ae19c5f8f5')\"\n",
              "            title=\"Convert this dataframe to an interactive table.\"\n",
              "            style=\"display:none;\">\n",
              "\n",
              "  <svg xmlns=\"http://www.w3.org/2000/svg\" height=\"24px\" viewBox=\"0 -960 960 960\">\n",
              "    <path d=\"M120-120v-720h720v720H120Zm60-500h600v-160H180v160Zm220 220h160v-160H400v160Zm0 220h160v-160H400v160ZM180-400h160v-160H180v160Zm440 0h160v-160H620v160ZM180-180h160v-160H180v160Zm440 0h160v-160H620v160Z\"/>\n",
              "  </svg>\n",
              "    </button>\n",
              "\n",
              "  <style>\n",
              "    .colab-df-container {\n",
              "      display:flex;\n",
              "      gap: 12px;\n",
              "    }\n",
              "\n",
              "    .colab-df-convert {\n",
              "      background-color: #E8F0FE;\n",
              "      border: none;\n",
              "      border-radius: 50%;\n",
              "      cursor: pointer;\n",
              "      display: none;\n",
              "      fill: #1967D2;\n",
              "      height: 32px;\n",
              "      padding: 0 0 0 0;\n",
              "      width: 32px;\n",
              "    }\n",
              "\n",
              "    .colab-df-convert:hover {\n",
              "      background-color: #E2EBFA;\n",
              "      box-shadow: 0px 1px 2px rgba(60, 64, 67, 0.3), 0px 1px 3px 1px rgba(60, 64, 67, 0.15);\n",
              "      fill: #174EA6;\n",
              "    }\n",
              "\n",
              "    .colab-df-buttons div {\n",
              "      margin-bottom: 4px;\n",
              "    }\n",
              "\n",
              "    [theme=dark] .colab-df-convert {\n",
              "      background-color: #3B4455;\n",
              "      fill: #D2E3FC;\n",
              "    }\n",
              "\n",
              "    [theme=dark] .colab-df-convert:hover {\n",
              "      background-color: #434B5C;\n",
              "      box-shadow: 0px 1px 3px 1px rgba(0, 0, 0, 0.15);\n",
              "      filter: drop-shadow(0px 1px 2px rgba(0, 0, 0, 0.3));\n",
              "      fill: #FFFFFF;\n",
              "    }\n",
              "  </style>\n",
              "\n",
              "    <script>\n",
              "      const buttonEl =\n",
              "        document.querySelector('#df-4dbc2ab1-51f7-4328-826e-f4ae19c5f8f5 button.colab-df-convert');\n",
              "      buttonEl.style.display =\n",
              "        google.colab.kernel.accessAllowed ? 'block' : 'none';\n",
              "\n",
              "      async function convertToInteractive(key) {\n",
              "        const element = document.querySelector('#df-4dbc2ab1-51f7-4328-826e-f4ae19c5f8f5');\n",
              "        const dataTable =\n",
              "          await google.colab.kernel.invokeFunction('convertToInteractive',\n",
              "                                                    [key], {});\n",
              "        if (!dataTable) return;\n",
              "\n",
              "        const docLinkHtml = 'Like what you see? Visit the ' +\n",
              "          '<a target=\"_blank\" href=https://colab.research.google.com/notebooks/data_table.ipynb>data table notebook</a>'\n",
              "          + ' to learn more about interactive tables.';\n",
              "        element.innerHTML = '';\n",
              "        dataTable['output_type'] = 'display_data';\n",
              "        await google.colab.output.renderOutput(dataTable, element);\n",
              "        const docLink = document.createElement('div');\n",
              "        docLink.innerHTML = docLinkHtml;\n",
              "        element.appendChild(docLink);\n",
              "      }\n",
              "    </script>\n",
              "  </div>\n",
              "\n",
              "\n",
              "<div id=\"df-71d04854-3aa9-491a-9906-13dc13523371\">\n",
              "  <button class=\"colab-df-quickchart\" onclick=\"quickchart('df-71d04854-3aa9-491a-9906-13dc13523371')\"\n",
              "            title=\"Suggest charts\"\n",
              "            style=\"display:none;\">\n",
              "\n",
              "<svg xmlns=\"http://www.w3.org/2000/svg\" height=\"24px\"viewBox=\"0 0 24 24\"\n",
              "     width=\"24px\">\n",
              "    <g>\n",
              "        <path d=\"M19 3H5c-1.1 0-2 .9-2 2v14c0 1.1.9 2 2 2h14c1.1 0 2-.9 2-2V5c0-1.1-.9-2-2-2zM9 17H7v-7h2v7zm4 0h-2V7h2v10zm4 0h-2v-4h2v4z\"/>\n",
              "    </g>\n",
              "</svg>\n",
              "  </button>\n",
              "\n",
              "<style>\n",
              "  .colab-df-quickchart {\n",
              "      --bg-color: #E8F0FE;\n",
              "      --fill-color: #1967D2;\n",
              "      --hover-bg-color: #E2EBFA;\n",
              "      --hover-fill-color: #174EA6;\n",
              "      --disabled-fill-color: #AAA;\n",
              "      --disabled-bg-color: #DDD;\n",
              "  }\n",
              "\n",
              "  [theme=dark] .colab-df-quickchart {\n",
              "      --bg-color: #3B4455;\n",
              "      --fill-color: #D2E3FC;\n",
              "      --hover-bg-color: #434B5C;\n",
              "      --hover-fill-color: #FFFFFF;\n",
              "      --disabled-bg-color: #3B4455;\n",
              "      --disabled-fill-color: #666;\n",
              "  }\n",
              "\n",
              "  .colab-df-quickchart {\n",
              "    background-color: var(--bg-color);\n",
              "    border: none;\n",
              "    border-radius: 50%;\n",
              "    cursor: pointer;\n",
              "    display: none;\n",
              "    fill: var(--fill-color);\n",
              "    height: 32px;\n",
              "    padding: 0;\n",
              "    width: 32px;\n",
              "  }\n",
              "\n",
              "  .colab-df-quickchart:hover {\n",
              "    background-color: var(--hover-bg-color);\n",
              "    box-shadow: 0 1px 2px rgba(60, 64, 67, 0.3), 0 1px 3px 1px rgba(60, 64, 67, 0.15);\n",
              "    fill: var(--button-hover-fill-color);\n",
              "  }\n",
              "\n",
              "  .colab-df-quickchart-complete:disabled,\n",
              "  .colab-df-quickchart-complete:disabled:hover {\n",
              "    background-color: var(--disabled-bg-color);\n",
              "    fill: var(--disabled-fill-color);\n",
              "    box-shadow: none;\n",
              "  }\n",
              "\n",
              "  .colab-df-spinner {\n",
              "    border: 2px solid var(--fill-color);\n",
              "    border-color: transparent;\n",
              "    border-bottom-color: var(--fill-color);\n",
              "    animation:\n",
              "      spin 1s steps(1) infinite;\n",
              "  }\n",
              "\n",
              "  @keyframes spin {\n",
              "    0% {\n",
              "      border-color: transparent;\n",
              "      border-bottom-color: var(--fill-color);\n",
              "      border-left-color: var(--fill-color);\n",
              "    }\n",
              "    20% {\n",
              "      border-color: transparent;\n",
              "      border-left-color: var(--fill-color);\n",
              "      border-top-color: var(--fill-color);\n",
              "    }\n",
              "    30% {\n",
              "      border-color: transparent;\n",
              "      border-left-color: var(--fill-color);\n",
              "      border-top-color: var(--fill-color);\n",
              "      border-right-color: var(--fill-color);\n",
              "    }\n",
              "    40% {\n",
              "      border-color: transparent;\n",
              "      border-right-color: var(--fill-color);\n",
              "      border-top-color: var(--fill-color);\n",
              "    }\n",
              "    60% {\n",
              "      border-color: transparent;\n",
              "      border-right-color: var(--fill-color);\n",
              "    }\n",
              "    80% {\n",
              "      border-color: transparent;\n",
              "      border-right-color: var(--fill-color);\n",
              "      border-bottom-color: var(--fill-color);\n",
              "    }\n",
              "    90% {\n",
              "      border-color: transparent;\n",
              "      border-bottom-color: var(--fill-color);\n",
              "    }\n",
              "  }\n",
              "</style>\n",
              "\n",
              "  <script>\n",
              "    async function quickchart(key) {\n",
              "      const quickchartButtonEl =\n",
              "        document.querySelector('#' + key + ' button');\n",
              "      quickchartButtonEl.disabled = true;  // To prevent multiple clicks.\n",
              "      quickchartButtonEl.classList.add('colab-df-spinner');\n",
              "      try {\n",
              "        const charts = await google.colab.kernel.invokeFunction(\n",
              "            'suggestCharts', [key], {});\n",
              "      } catch (error) {\n",
              "        console.error('Error during call to suggestCharts:', error);\n",
              "      }\n",
              "      quickchartButtonEl.classList.remove('colab-df-spinner');\n",
              "      quickchartButtonEl.classList.add('colab-df-quickchart-complete');\n",
              "    }\n",
              "    (() => {\n",
              "      let quickchartButtonEl =\n",
              "        document.querySelector('#df-71d04854-3aa9-491a-9906-13dc13523371 button');\n",
              "      quickchartButtonEl.style.display =\n",
              "        google.colab.kernel.accessAllowed ? 'block' : 'none';\n",
              "    })();\n",
              "  </script>\n",
              "</div>\n",
              "\n",
              "    </div>\n",
              "  </div>\n"
            ],
            "application/vnd.google.colaboratory.intrinsic+json": {
              "type": "dataframe",
              "summary": "{\n  \"name\": \"rais2022\",\n  \"rows\": 8,\n  \"fields\": [\n    {\n      \"column\": \"CNAE 2.0 Classe\",\n      \"properties\": {\n        \"dtype\": \"number\",\n        \"std\": 239423.23204821267,\n        \"min\": 977.0,\n        \"max\": 728139.0,\n        \"num_unique_values\": 8,\n        \"samples\": [\n          63684.7856000022,\n          81214.0,\n          728139.0\n        ],\n        \"semantic_type\": \"\",\n        \"description\": \"\"\n      }\n    },\n    {\n      \"column\": \"Faixa Et\\u00e1ria\",\n      \"properties\": {\n        \"dtype\": \"number\",\n        \"std\": 257434.41467951337,\n        \"min\": 1.0,\n        \"max\": 728139.0,\n        \"num_unique_values\": 7,\n        \"samples\": [\n          728139.0,\n          5.346841743128715,\n          6.0\n        ],\n        \"semantic_type\": \"\",\n        \"description\": \"\"\n      }\n    },\n    {\n      \"column\": \"Escolaridade ap\\u00f3s 2005\",\n      \"properties\": {\n        \"dtype\": \"number\",\n        \"std\": 257433.9098190571,\n        \"min\": 1.0,\n        \"max\": 728139.0,\n        \"num_unique_values\": 8,\n        \"samples\": [\n          6.816896224484611,\n          7.0,\n          728139.0\n        ],\n        \"semantic_type\": \"\",\n        \"description\": \"\"\n      }\n    },\n    {\n      \"column\": \"Idade\",\n      \"properties\": {\n        \"dtype\": \"number\",\n        \"std\": 257422.1129027742,\n        \"min\": 11.91583130194451,\n        \"max\": 728139.0,\n        \"num_unique_values\": 8,\n        \"samples\": [\n          39.30405458298484,\n          38.0,\n          728139.0\n        ],\n        \"semantic_type\": \"\",\n        \"description\": \"\"\n      }\n    },\n    {\n      \"column\": \"Ra\\u00e7a Cor\",\n      \"properties\": {\n        \"dtype\": \"number\",\n        \"std\": 257420.95603349787,\n        \"min\": 1.0,\n        \"max\": 728139.0,\n        \"num_unique_values\": 6,\n        \"samples\": [\n          728139.0,\n          39.08093509618356,\n          99.0\n        ],\n        \"semantic_type\": \"\",\n        \"description\": \"\"\n      }\n    },\n    {\n      \"column\": \"Sexo Trabalhador\",\n      \"properties\": {\n        \"dtype\": \"number\",\n        \"std\": 257435.56122202112,\n        \"min\": 0.4957121158501881,\n        \"max\": 728139.0,\n        \"num_unique_values\": 5,\n        \"samples\": [\n          1.4346560203477632,\n          2.0,\n          0.4957121158501881\n        ],\n        \"semantic_type\": \"\",\n        \"description\": \"\"\n      }\n    },\n    {\n      \"column\": \"uf\",\n      \"properties\": {\n        \"dtype\": \"number\",\n        \"std\": 257428.43627775606,\n        \"min\": 0.0,\n        \"max\": 728139.0,\n        \"num_unique_values\": 3,\n        \"samples\": [\n          728139.0,\n          25.0,\n          0.0\n        ],\n        \"semantic_type\": \"\",\n        \"description\": \"\"\n      }\n    },\n    {\n      \"column\": \"valor_remuneracao_media\",\n      \"properties\": {\n        \"dtype\": \"number\",\n        \"std\": 833041.1242870782,\n        \"min\": 0.0,\n        \"max\": 2350575.09,\n        \"num_unique_values\": 8,\n        \"samples\": [\n          2875.5767086092073,\n          1625.17,\n          728139.0\n        ],\n        \"semantic_type\": \"\",\n        \"description\": \"\"\n      }\n    }\n  ]\n}"
            }
          },
          "metadata": {},
          "execution_count": 21
        }
      ],
      "source": [
        "# Resumo estatístico do dataset\n",
        "rais2022.describe()"
      ]
    },
    {
      "cell_type": "code",
      "source": [
        "rais2022_prep.describe()"
      ],
      "metadata": {
        "colab": {
          "base_uri": "https://localhost:8080/",
          "height": 300
        },
        "id": "ojFVGCNVQGo0",
        "outputId": "0961efe5-884f-46eb-92b9-23f522f7f3f6"
      },
      "execution_count": 23,
      "outputs": [
        {
          "output_type": "execute_result",
          "data": {
            "text/plain": [
              "       CNAE 2.0 Classe  Faixa Etária  Escolaridade após 2005   Raça Cor  \\\n",
              "count       128,468.00    128,468.00              128,468.00 128,468.00   \n",
              "mean         50,552.58          4.92                    6.94       6.11   \n",
              "std           6,332.61          1.24                    1.30       2.72   \n",
              "min          45,111.00          2.00                    1.00       1.00   \n",
              "25%          47,113.00          4.00                    7.00       2.00   \n",
              "50%          47,547.00          5.00                    7.00       8.00   \n",
              "75%          52,401.00          6.00                    7.00       8.00   \n",
              "max          69,206.00          8.00                   11.00       8.00   \n",
              "\n",
              "       Sexo Trabalhador  valor_remuneracao_media  \n",
              "count        128,468.00               128,468.00  \n",
              "mean               1.39                 3,041.12  \n",
              "std                0.49                12,325.64  \n",
              "min                1.00                   363.60  \n",
              "25%                1.00                 1,305.54  \n",
              "50%                1.00                 1,479.88  \n",
              "75%                2.00                 2,140.88  \n",
              "max                2.00             1,964,156.42  "
            ],
            "text/html": [
              "\n",
              "  <div id=\"df-b3daeb2d-331d-4c9a-a72f-1e7ad0b0a8de\" class=\"colab-df-container\">\n",
              "    <div>\n",
              "<style scoped>\n",
              "    .dataframe tbody tr th:only-of-type {\n",
              "        vertical-align: middle;\n",
              "    }\n",
              "\n",
              "    .dataframe tbody tr th {\n",
              "        vertical-align: top;\n",
              "    }\n",
              "\n",
              "    .dataframe thead th {\n",
              "        text-align: right;\n",
              "    }\n",
              "</style>\n",
              "<table border=\"1\" class=\"dataframe\">\n",
              "  <thead>\n",
              "    <tr style=\"text-align: right;\">\n",
              "      <th></th>\n",
              "      <th>CNAE 2.0 Classe</th>\n",
              "      <th>Faixa Etária</th>\n",
              "      <th>Escolaridade após 2005</th>\n",
              "      <th>Raça Cor</th>\n",
              "      <th>Sexo Trabalhador</th>\n",
              "      <th>valor_remuneracao_media</th>\n",
              "    </tr>\n",
              "  </thead>\n",
              "  <tbody>\n",
              "    <tr>\n",
              "      <th>count</th>\n",
              "      <td>128,468.00</td>\n",
              "      <td>128,468.00</td>\n",
              "      <td>128,468.00</td>\n",
              "      <td>128,468.00</td>\n",
              "      <td>128,468.00</td>\n",
              "      <td>128,468.00</td>\n",
              "    </tr>\n",
              "    <tr>\n",
              "      <th>mean</th>\n",
              "      <td>50,552.58</td>\n",
              "      <td>4.92</td>\n",
              "      <td>6.94</td>\n",
              "      <td>6.11</td>\n",
              "      <td>1.39</td>\n",
              "      <td>3,041.12</td>\n",
              "    </tr>\n",
              "    <tr>\n",
              "      <th>std</th>\n",
              "      <td>6,332.61</td>\n",
              "      <td>1.24</td>\n",
              "      <td>1.30</td>\n",
              "      <td>2.72</td>\n",
              "      <td>0.49</td>\n",
              "      <td>12,325.64</td>\n",
              "    </tr>\n",
              "    <tr>\n",
              "      <th>min</th>\n",
              "      <td>45,111.00</td>\n",
              "      <td>2.00</td>\n",
              "      <td>1.00</td>\n",
              "      <td>1.00</td>\n",
              "      <td>1.00</td>\n",
              "      <td>363.60</td>\n",
              "    </tr>\n",
              "    <tr>\n",
              "      <th>25%</th>\n",
              "      <td>47,113.00</td>\n",
              "      <td>4.00</td>\n",
              "      <td>7.00</td>\n",
              "      <td>2.00</td>\n",
              "      <td>1.00</td>\n",
              "      <td>1,305.54</td>\n",
              "    </tr>\n",
              "    <tr>\n",
              "      <th>50%</th>\n",
              "      <td>47,547.00</td>\n",
              "      <td>5.00</td>\n",
              "      <td>7.00</td>\n",
              "      <td>8.00</td>\n",
              "      <td>1.00</td>\n",
              "      <td>1,479.88</td>\n",
              "    </tr>\n",
              "    <tr>\n",
              "      <th>75%</th>\n",
              "      <td>52,401.00</td>\n",
              "      <td>6.00</td>\n",
              "      <td>7.00</td>\n",
              "      <td>8.00</td>\n",
              "      <td>2.00</td>\n",
              "      <td>2,140.88</td>\n",
              "    </tr>\n",
              "    <tr>\n",
              "      <th>max</th>\n",
              "      <td>69,206.00</td>\n",
              "      <td>8.00</td>\n",
              "      <td>11.00</td>\n",
              "      <td>8.00</td>\n",
              "      <td>2.00</td>\n",
              "      <td>1,964,156.42</td>\n",
              "    </tr>\n",
              "  </tbody>\n",
              "</table>\n",
              "</div>\n",
              "    <div class=\"colab-df-buttons\">\n",
              "\n",
              "  <div class=\"colab-df-container\">\n",
              "    <button class=\"colab-df-convert\" onclick=\"convertToInteractive('df-b3daeb2d-331d-4c9a-a72f-1e7ad0b0a8de')\"\n",
              "            title=\"Convert this dataframe to an interactive table.\"\n",
              "            style=\"display:none;\">\n",
              "\n",
              "  <svg xmlns=\"http://www.w3.org/2000/svg\" height=\"24px\" viewBox=\"0 -960 960 960\">\n",
              "    <path d=\"M120-120v-720h720v720H120Zm60-500h600v-160H180v160Zm220 220h160v-160H400v160Zm0 220h160v-160H400v160ZM180-400h160v-160H180v160Zm440 0h160v-160H620v160ZM180-180h160v-160H180v160Zm440 0h160v-160H620v160Z\"/>\n",
              "  </svg>\n",
              "    </button>\n",
              "\n",
              "  <style>\n",
              "    .colab-df-container {\n",
              "      display:flex;\n",
              "      gap: 12px;\n",
              "    }\n",
              "\n",
              "    .colab-df-convert {\n",
              "      background-color: #E8F0FE;\n",
              "      border: none;\n",
              "      border-radius: 50%;\n",
              "      cursor: pointer;\n",
              "      display: none;\n",
              "      fill: #1967D2;\n",
              "      height: 32px;\n",
              "      padding: 0 0 0 0;\n",
              "      width: 32px;\n",
              "    }\n",
              "\n",
              "    .colab-df-convert:hover {\n",
              "      background-color: #E2EBFA;\n",
              "      box-shadow: 0px 1px 2px rgba(60, 64, 67, 0.3), 0px 1px 3px 1px rgba(60, 64, 67, 0.15);\n",
              "      fill: #174EA6;\n",
              "    }\n",
              "\n",
              "    .colab-df-buttons div {\n",
              "      margin-bottom: 4px;\n",
              "    }\n",
              "\n",
              "    [theme=dark] .colab-df-convert {\n",
              "      background-color: #3B4455;\n",
              "      fill: #D2E3FC;\n",
              "    }\n",
              "\n",
              "    [theme=dark] .colab-df-convert:hover {\n",
              "      background-color: #434B5C;\n",
              "      box-shadow: 0px 1px 3px 1px rgba(0, 0, 0, 0.15);\n",
              "      filter: drop-shadow(0px 1px 2px rgba(0, 0, 0, 0.3));\n",
              "      fill: #FFFFFF;\n",
              "    }\n",
              "  </style>\n",
              "\n",
              "    <script>\n",
              "      const buttonEl =\n",
              "        document.querySelector('#df-b3daeb2d-331d-4c9a-a72f-1e7ad0b0a8de button.colab-df-convert');\n",
              "      buttonEl.style.display =\n",
              "        google.colab.kernel.accessAllowed ? 'block' : 'none';\n",
              "\n",
              "      async function convertToInteractive(key) {\n",
              "        const element = document.querySelector('#df-b3daeb2d-331d-4c9a-a72f-1e7ad0b0a8de');\n",
              "        const dataTable =\n",
              "          await google.colab.kernel.invokeFunction('convertToInteractive',\n",
              "                                                    [key], {});\n",
              "        if (!dataTable) return;\n",
              "\n",
              "        const docLinkHtml = 'Like what you see? Visit the ' +\n",
              "          '<a target=\"_blank\" href=https://colab.research.google.com/notebooks/data_table.ipynb>data table notebook</a>'\n",
              "          + ' to learn more about interactive tables.';\n",
              "        element.innerHTML = '';\n",
              "        dataTable['output_type'] = 'display_data';\n",
              "        await google.colab.output.renderOutput(dataTable, element);\n",
              "        const docLink = document.createElement('div');\n",
              "        docLink.innerHTML = docLinkHtml;\n",
              "        element.appendChild(docLink);\n",
              "      }\n",
              "    </script>\n",
              "  </div>\n",
              "\n",
              "\n",
              "<div id=\"df-76a368c3-0e18-4193-85e5-a5db5b4471e0\">\n",
              "  <button class=\"colab-df-quickchart\" onclick=\"quickchart('df-76a368c3-0e18-4193-85e5-a5db5b4471e0')\"\n",
              "            title=\"Suggest charts\"\n",
              "            style=\"display:none;\">\n",
              "\n",
              "<svg xmlns=\"http://www.w3.org/2000/svg\" height=\"24px\"viewBox=\"0 0 24 24\"\n",
              "     width=\"24px\">\n",
              "    <g>\n",
              "        <path d=\"M19 3H5c-1.1 0-2 .9-2 2v14c0 1.1.9 2 2 2h14c1.1 0 2-.9 2-2V5c0-1.1-.9-2-2-2zM9 17H7v-7h2v7zm4 0h-2V7h2v10zm4 0h-2v-4h2v4z\"/>\n",
              "    </g>\n",
              "</svg>\n",
              "  </button>\n",
              "\n",
              "<style>\n",
              "  .colab-df-quickchart {\n",
              "      --bg-color: #E8F0FE;\n",
              "      --fill-color: #1967D2;\n",
              "      --hover-bg-color: #E2EBFA;\n",
              "      --hover-fill-color: #174EA6;\n",
              "      --disabled-fill-color: #AAA;\n",
              "      --disabled-bg-color: #DDD;\n",
              "  }\n",
              "\n",
              "  [theme=dark] .colab-df-quickchart {\n",
              "      --bg-color: #3B4455;\n",
              "      --fill-color: #D2E3FC;\n",
              "      --hover-bg-color: #434B5C;\n",
              "      --hover-fill-color: #FFFFFF;\n",
              "      --disabled-bg-color: #3B4455;\n",
              "      --disabled-fill-color: #666;\n",
              "  }\n",
              "\n",
              "  .colab-df-quickchart {\n",
              "    background-color: var(--bg-color);\n",
              "    border: none;\n",
              "    border-radius: 50%;\n",
              "    cursor: pointer;\n",
              "    display: none;\n",
              "    fill: var(--fill-color);\n",
              "    height: 32px;\n",
              "    padding: 0;\n",
              "    width: 32px;\n",
              "  }\n",
              "\n",
              "  .colab-df-quickchart:hover {\n",
              "    background-color: var(--hover-bg-color);\n",
              "    box-shadow: 0 1px 2px rgba(60, 64, 67, 0.3), 0 1px 3px 1px rgba(60, 64, 67, 0.15);\n",
              "    fill: var(--button-hover-fill-color);\n",
              "  }\n",
              "\n",
              "  .colab-df-quickchart-complete:disabled,\n",
              "  .colab-df-quickchart-complete:disabled:hover {\n",
              "    background-color: var(--disabled-bg-color);\n",
              "    fill: var(--disabled-fill-color);\n",
              "    box-shadow: none;\n",
              "  }\n",
              "\n",
              "  .colab-df-spinner {\n",
              "    border: 2px solid var(--fill-color);\n",
              "    border-color: transparent;\n",
              "    border-bottom-color: var(--fill-color);\n",
              "    animation:\n",
              "      spin 1s steps(1) infinite;\n",
              "  }\n",
              "\n",
              "  @keyframes spin {\n",
              "    0% {\n",
              "      border-color: transparent;\n",
              "      border-bottom-color: var(--fill-color);\n",
              "      border-left-color: var(--fill-color);\n",
              "    }\n",
              "    20% {\n",
              "      border-color: transparent;\n",
              "      border-left-color: var(--fill-color);\n",
              "      border-top-color: var(--fill-color);\n",
              "    }\n",
              "    30% {\n",
              "      border-color: transparent;\n",
              "      border-left-color: var(--fill-color);\n",
              "      border-top-color: var(--fill-color);\n",
              "      border-right-color: var(--fill-color);\n",
              "    }\n",
              "    40% {\n",
              "      border-color: transparent;\n",
              "      border-right-color: var(--fill-color);\n",
              "      border-top-color: var(--fill-color);\n",
              "    }\n",
              "    60% {\n",
              "      border-color: transparent;\n",
              "      border-right-color: var(--fill-color);\n",
              "    }\n",
              "    80% {\n",
              "      border-color: transparent;\n",
              "      border-right-color: var(--fill-color);\n",
              "      border-bottom-color: var(--fill-color);\n",
              "    }\n",
              "    90% {\n",
              "      border-color: transparent;\n",
              "      border-bottom-color: var(--fill-color);\n",
              "    }\n",
              "  }\n",
              "</style>\n",
              "\n",
              "  <script>\n",
              "    async function quickchart(key) {\n",
              "      const quickchartButtonEl =\n",
              "        document.querySelector('#' + key + ' button');\n",
              "      quickchartButtonEl.disabled = true;  // To prevent multiple clicks.\n",
              "      quickchartButtonEl.classList.add('colab-df-spinner');\n",
              "      try {\n",
              "        const charts = await google.colab.kernel.invokeFunction(\n",
              "            'suggestCharts', [key], {});\n",
              "      } catch (error) {\n",
              "        console.error('Error during call to suggestCharts:', error);\n",
              "      }\n",
              "      quickchartButtonEl.classList.remove('colab-df-spinner');\n",
              "      quickchartButtonEl.classList.add('colab-df-quickchart-complete');\n",
              "    }\n",
              "    (() => {\n",
              "      let quickchartButtonEl =\n",
              "        document.querySelector('#df-76a368c3-0e18-4193-85e5-a5db5b4471e0 button');\n",
              "      quickchartButtonEl.style.display =\n",
              "        google.colab.kernel.accessAllowed ? 'block' : 'none';\n",
              "    })();\n",
              "  </script>\n",
              "</div>\n",
              "\n",
              "    </div>\n",
              "  </div>\n"
            ],
            "application/vnd.google.colaboratory.intrinsic+json": {
              "type": "dataframe",
              "summary": "{\n  \"name\": \"rais2022_prep\",\n  \"rows\": 8,\n  \"fields\": [\n    {\n      \"column\": \"CNAE 2.0 Classe\",\n      \"properties\": {\n        \"dtype\": \"number\",\n        \"std\": 34235.08544571528,\n        \"min\": 6332.607989040439,\n        \"max\": 128468.0,\n        \"num_unique_values\": 8,\n        \"samples\": [\n          50552.580946227856,\n          47547.0,\n          128468.0\n        ],\n        \"semantic_type\": \"\",\n        \"description\": \"\"\n      }\n    },\n    {\n      \"column\": \"Faixa Et\\u00e1ria\",\n      \"properties\": {\n        \"dtype\": \"number\",\n        \"std\": 45418.723179710425,\n        \"min\": 1.2360659491822408,\n        \"max\": 128468.0,\n        \"num_unique_values\": 8,\n        \"samples\": [\n          4.924642712582122,\n          5.0,\n          128468.0\n        ],\n        \"semantic_type\": \"\",\n        \"description\": \"\"\n      }\n    },\n    {\n      \"column\": \"Escolaridade ap\\u00f3s 2005\",\n      \"properties\": {\n        \"dtype\": \"number\",\n        \"std\": 45418.214086901906,\n        \"min\": 1.0,\n        \"max\": 128468.0,\n        \"num_unique_values\": 6,\n        \"samples\": [\n          128468.0,\n          6.9431531587632715,\n          11.0\n        ],\n        \"semantic_type\": \"\",\n        \"description\": \"\"\n      }\n    },\n    {\n      \"column\": \"Ra\\u00e7a Cor\",\n      \"properties\": {\n        \"dtype\": \"number\",\n        \"std\": 45418.48753184388,\n        \"min\": 1.0,\n        \"max\": 128468.0,\n        \"num_unique_values\": 6,\n        \"samples\": [\n          128468.0,\n          6.106742535106019,\n          8.0\n        ],\n        \"semantic_type\": \"\",\n        \"description\": \"\"\n      }\n    },\n    {\n      \"column\": \"Sexo Trabalhador\",\n      \"properties\": {\n        \"dtype\": \"number\",\n        \"std\": 45419.84867188572,\n        \"min\": 0.4874576964764589,\n        \"max\": 128468.0,\n        \"num_unique_values\": 5,\n        \"samples\": [\n          1.3887038017249431,\n          2.0,\n          0.4874576964764589\n        ],\n        \"semantic_type\": \"\",\n        \"description\": \"\"\n      }\n    },\n    {\n      \"column\": \"valor_remuneracao_media\",\n      \"properties\": {\n        \"dtype\": \"number\",\n        \"std\": 688304.2963205874,\n        \"min\": 363.6,\n        \"max\": 1964156.42,\n        \"num_unique_values\": 8,\n        \"samples\": [\n          3041.123668072983,\n          1479.88,\n          128468.0\n        ],\n        \"semantic_type\": \"\",\n        \"description\": \"\"\n      }\n    }\n  ]\n}"
            }
          },
          "metadata": {},
          "execution_count": 23
        }
      ]
    },
    {
      "cell_type": "markdown",
      "source": [
        "Ao comparar o dataset original com o originado após os ajustes, pode-se perceber algumas diferenças nas estatísticas, além da quantidade de dados.\n",
        "\n",
        "A média da Faixa Etária foi reduzida, apesar de ter excluído a menor de todas (1), o que pode representar que o setor terciário possui como característica natural funcionários com menor idade.\n",
        "\n",
        "A escolaridade e o gênero não tiveram grande modificação nas estatísticas, seguindo o padrão do mercado de trabalho em geral.\n",
        "\n",
        "Já a média da categoria de Raça teve uma mudança brusca, mostrando o quando a parcela não informada e ignorada influenciava no resultado.\n",
        "\n",
        "Em relação a remuneração média, ao excluir o valor mínimo e filtrar as CNAES, houve um aumento de cerca de 6% no valor médio, que alcançou R$ 3.041,12."
      ],
      "metadata": {
        "id": "lL0Kif4LQcRX"
      }
    },
    {
      "cell_type": "markdown",
      "source": [
        "#### 4. Análise dos Dados"
      ],
      "metadata": {
        "id": "oQKxobz0nTTJ"
      }
    },
    {
      "cell_type": "markdown",
      "source": [
        "##### 4.1. Raça"
      ],
      "metadata": {
        "id": "YwogcGuE7aiL"
      }
    },
    {
      "cell_type": "markdown",
      "metadata": {
        "id": "fabLTz9c_tJE"
      },
      "source": [
        "Com os dados limpos e filtrados, começarei a exploração de dados. Como a variável de raça foi a mais alterada, será a primeira a ser avaliada."
      ]
    },
    {
      "cell_type": "code",
      "source": [
        "# Agrupar por categoria\n",
        "grupo_raça = rais2022_prep['Raça Cor'].value_counts().reset_index()\n",
        "grupo_raça.columns = ['Raça Cor', 'quantidade']\n",
        "\n",
        "# Ordenar por quantidade em ordem decrescente\n",
        "grupo_raça = grupo_raça.sort_values(by='quantidade', ascending=False)\n",
        "\n",
        "# Calcular o total para obter as porcentagens\n",
        "total = grupo_raça['quantidade'].sum()\n",
        "\n",
        "# Criar a posição das barras\n",
        "posicoes = range(len(grupo_raça['Raça Cor']))\n",
        "\n",
        "# Criar o gráfico de barras\n",
        "bars = plt.bar(posicoes, grupo_raça['quantidade'])\n",
        "\n",
        "# Ajusta os limites do eixo Y para criar espaço acima das barras\n",
        "plt.ylim(0, max(grupo_raça['quantidade']) * 1.2)\n",
        "\n",
        "# Adicionar rótulos de dados com quantidade e porcentagem\n",
        "for bar, quantidade in zip(bars, grupo_raça['quantidade']):\n",
        "    altura = bar.get_height()\n",
        "    porcentagem = (quantidade / total) * 100\n",
        "    plt.text(bar.get_x() + bar.get_width() / 2, altura,\n",
        "             f'{int(quantidade)}\\n({porcentagem:.0f}%)',\n",
        "             ha='center', va='bottom')\n",
        "\n",
        "# Remover números do eixo Y\n",
        "plt.yticks([])\n",
        "\n",
        "# Adicionar títulos e rótulos\n",
        "plt.title('Mercado de Trabalho Categorizado por Raça')\n",
        "plt.xlabel('Raça / Cor')\n",
        "plt.ylabel('Quantidade de ocorrências')\n",
        "\n",
        "# Ajustar os rótulos do eixo X\n",
        "plt.xticks(posicoes, grupo_raça['Raça Cor'])\n",
        "\n",
        "# Exibir o gráfico\n",
        "plt.show()"
      ],
      "metadata": {
        "colab": {
          "base_uri": "https://localhost:8080/",
          "height": 472
        },
        "id": "vvUFYacIIVEg",
        "outputId": "1dcfcc77-cb49-4f54-b3cc-f92b8d012acd"
      },
      "execution_count": 24,
      "outputs": [
        {
          "output_type": "display_data",
          "data": {
            "text/plain": [
              "<Figure size 640x480 with 1 Axes>"
            ],
            "image/png": "[encoded data removed]"
          },
          "metadata": {}
        }
      ]
    },
    {
      "cell_type": "markdown",
      "source": [
        "A maior parte continuou se considerando Parda, contudo, ao se analisar apenas o setor terciário e sem os dados não informados e ignorados, o percentual aumentou para 67%, tendo uma concentração ainda maior do que no quadro geral."
      ],
      "metadata": {
        "id": "F5mYj3ucTI5W"
      }
    },
    {
      "cell_type": "code",
      "source": [
        "# Agrupar por Raça e calcular a média de remuneração\n",
        "grupo_remuneracao = rais2022_prep.groupby('Raça Cor')['valor_remuneracao_media'].mean().reset_index()\n",
        "\n",
        "# Ordenar por média de remuneração em ordem decrescente\n",
        "grupo_remuneracao = grupo_remuneracao.sort_values(by='valor_remuneracao_media', ascending=False)\n",
        "\n",
        "# Criar a posição das barras\n",
        "posicoes = range(len(grupo_remuneracao['Raça Cor']))\n",
        "\n",
        "# Criar o gráfico de barras com barras verdes\n",
        "bars = plt.bar(posicoes, grupo_remuneracao['valor_remuneracao_media'], color='green')\n",
        "\n",
        "# Adicionar rótulos de dados\n",
        "for bar in bars:\n",
        "    altura = bar.get_height()\n",
        "    plt.text(bar.get_x() + bar.get_width() / 2, altura,\n",
        "             f'{altura:.2f}',\n",
        "             ha='center', va='bottom')\n",
        "\n",
        "# Adicionar títulos e rótulos\n",
        "plt.title('Média de Remuneração por Raça')\n",
        "plt.xlabel('Raça')\n",
        "plt.ylabel('Média de Remuneração')\n",
        "\n",
        "# Remover números do eixo Y\n",
        "plt.yticks([])\n",
        "\n",
        "# Ajustar os rótulos do eixo X\n",
        "plt.xticks(posicoes, grupo_remuneracao['Raça Cor'])\n",
        "\n",
        "# Exibir o gráfico\n",
        "plt.show()"
      ],
      "metadata": {
        "colab": {
          "base_uri": "https://localhost:8080/",
          "height": 472
        },
        "id": "O6sOUBX4GUA7",
        "outputId": "4b83c37d-e64d-4ac8-bfc9-90ffb98e3919"
      },
      "execution_count": 25,
      "outputs": [
        {
          "output_type": "display_data",
          "data": {
            "text/plain": [
              "<Figure size 640x480 with 1 Axes>"
            ],
            "image/png": "[encoded data removed]"
          },
          "metadata": {}
        }
      ]
    },
    {
      "cell_type": "markdown",
      "source": [
        "Mesmo tendo o maior percentual de pessoas trabalhando, o grupo 8 apresenta o menor nível médio de remuneração (R\\$ 2.494,29), estando os funcionários considerados brancos com os maiores salários (R$ 4.351,12), salário quase 30% acima do segundo colocado, amarelos."
      ],
      "metadata": {
        "id": "aNFgelPbTk5_"
      }
    },
    {
      "cell_type": "markdown",
      "source": [
        "##### 4.2. Faixa Etária"
      ],
      "metadata": {
        "id": "RZn8OSl17txA"
      }
    },
    {
      "cell_type": "code",
      "source": [
        "# Agrupar por categoria\n",
        "grupo_faixa = rais2022_prep['Faixa Etária'].value_counts().reset_index()\n",
        "grupo_faixa.columns = ['Faixa Etária', 'quantidade']\n",
        "\n",
        "# Ordenar por quantidade em ordem decrescente\n",
        "grupo_faixa = grupo_faixa.sort_values(by='quantidade', ascending=False)\n",
        "\n",
        "# Calcular o total para obter as porcentagens\n",
        "total = grupo_faixa['quantidade'].sum()\n",
        "\n",
        "# Criar a posição das barras\n",
        "posicoes = range(len(grupo_faixa['Faixa Etária']))\n",
        "\n",
        "# Criar o gráfico de barras\n",
        "bars = plt.bar(posicoes, grupo_faixa['quantidade'])\n",
        "\n",
        "# Ajustar os limites do eixo Y para criar espaço acima das barras\n",
        "plt.ylim(0, max(grupo_faixa['quantidade']) * 1.2)\n",
        "\n",
        "# Adicionar rótulos de dados com quantidade e porcentagem\n",
        "for bar, quantidade in zip(bars, grupo_faixa['quantidade']):\n",
        "    altura = bar.get_height()\n",
        "    porcentagem = (quantidade / total) * 100\n",
        "    plt.text(bar.get_x() + bar.get_width() / 2, altura,\n",
        "             f'{int(quantidade)}\\n({porcentagem:.0f}%)',\n",
        "             ha='center', va='bottom')\n",
        "\n",
        "# Remover números do eixo Y\n",
        "plt.yticks([])\n",
        "\n",
        "# Adicionar títulos e rótulos\n",
        "plt.title('Mercado de Trabalho Categorizado por Faixa Etária')\n",
        "plt.xlabel('Faixa Etária')\n",
        "plt.ylabel('Quantidade de ocorrências')\n",
        "\n",
        "# Ajustar os rótulos do eixo X\n",
        "plt.xticks(posicoes, grupo_faixa['Faixa Etária'])\n",
        "\n",
        "# Exibir o gráfico\n",
        "plt.show()"
      ],
      "metadata": {
        "colab": {
          "base_uri": "https://localhost:8080/",
          "height": 472
        },
        "id": "ye_Uh_NLON_j",
        "outputId": "8d8ba242-ec6a-4ccd-f331-f35d818a417e"
      },
      "execution_count": 26,
      "outputs": [
        {
          "output_type": "display_data",
          "data": {
            "text/plain": [
              "<Figure size 640x480 with 1 Axes>"
            ],
            "image/png": "[encoded data removed]"
          },
          "metadata": {}
        }
      ]
    },
    {
      "cell_type": "markdown",
      "source": [
        "A maior parte do quadro de funcionários permanece entre 30 e 49 anos (54%). Porém, há uma discrepância maior em relação ao quadro geral entre a quantidade que possui entre 30 e 39 e aqueles entre 40 e 49, neste caso a diferença de representatividade entre os grupos é de 12 pontos percentuais e nos dados como observado anteriormente a disparidade foi de 5 pontos percentuais."
      ],
      "metadata": {
        "id": "eUqF6363VJF-"
      }
    },
    {
      "cell_type": "code",
      "source": [
        "# Agrupar por Faixa Etária e calcular a média de remuneração\n",
        "grupo_remuneracao = rais2022_prep.groupby('Faixa Etária')['valor_remuneracao_media'].mean().reset_index()\n",
        "\n",
        "# Ordenar por média de remuneração em ordem decrescente\n",
        "grupo_remuneracao = grupo_remuneracao.sort_values(by='valor_remuneracao_media', ascending=False)\n",
        "\n",
        "# Criar a posição das barras\n",
        "posicoes = range(len(grupo_remuneracao['Faixa Etária']))\n",
        "\n",
        "# Criar o gráfico de barras com barras verdes\n",
        "bars = plt.bar(posicoes, grupo_remuneracao['valor_remuneracao_media'], color='green')\n",
        "\n",
        "# Adicionar rótulos de dados\n",
        "for bar in bars:\n",
        "    altura = bar.get_height()\n",
        "    plt.text(bar.get_x() + bar.get_width() / 2, altura,\n",
        "             f'{altura:.2f}',\n",
        "             ha='center', va='bottom')\n",
        "\n",
        "# Adicionar títulos e rótulos\n",
        "plt.title('Média de Remuneração por Faixa Etária')\n",
        "plt.xlabel('Faixa Etária')\n",
        "plt.ylabel('Média de Remuneração')\n",
        "\n",
        "# Remover números do eixo Y\n",
        "plt.yticks([])\n",
        "\n",
        "# Ajustar os rótulos do eixo X\n",
        "plt.xticks(posicoes, grupo_remuneracao['Faixa Etária'])\n",
        "\n",
        "# Exibir o gráfico\n",
        "plt.show()"
      ],
      "metadata": {
        "colab": {
          "base_uri": "https://localhost:8080/",
          "height": 472
        },
        "id": "T0MQe_cpOaEs",
        "outputId": "8599905c-781d-436b-824e-3f2f19fb43c0"
      },
      "execution_count": 27,
      "outputs": [
        {
          "output_type": "display_data",
          "data": {
            "text/plain": [
              "<Figure size 640x480 with 1 Axes>"
            ],
            "image/png": "[encoded data removed]"
          },
          "metadata": {}
        }
      ]
    },
    {
      "cell_type": "markdown",
      "source": [
        "Em relação a remuneração média, pode-se observar quanto maior a idade, maior será o valor recebido, devido principalmente aos anos de experiência no mercado de trabalho. Com isso, pode-se esperar uma correlação entre os dados, que será calculada ao se analisar a remuneração."
      ],
      "metadata": {
        "id": "qqonjF9XWJNu"
      }
    },
    {
      "cell_type": "markdown",
      "source": [
        "##### 4.3. Escolaridade"
      ],
      "metadata": {
        "id": "HjZxAhNk7k1X"
      }
    },
    {
      "cell_type": "code",
      "source": [
        "# Agrupar por categoria\n",
        "grupo_escolaridade = rais2022_prep['Escolaridade após 2005'].value_counts().reset_index()\n",
        "grupo_escolaridade.columns = ['Escolaridade após 2005', 'quantidade']\n",
        "\n",
        "# Ordenar por quantidade em ordem decrescente\n",
        "grupo_escolaridade = grupo_escolaridade.sort_values(by='quantidade', ascending=False)\n",
        "\n",
        "# Calcular o total para obter as porcentagens\n",
        "total = grupo_escolaridade['quantidade'].sum()\n",
        "\n",
        "# Criar a posição das barras\n",
        "posicoes = range(len(grupo_escolaridade['Escolaridade após 2005']))\n",
        "\n",
        "# Criar o gráfico de barras\n",
        "bars = plt.bar(posicoes, grupo_escolaridade['quantidade'])\n",
        "\n",
        "# Ajustar os limites do eixo Y para criar espaço acima das barras\n",
        "plt.ylim(0, max(grupo_escolaridade['quantidade']) * 1.2)\n",
        "\n",
        "# Adicionar rótulos de dados com quantidade e porcentagem\n",
        "for bar, quantidade in zip(bars, grupo_escolaridade['quantidade']):\n",
        "    altura = bar.get_height()\n",
        "    porcentagem = (quantidade / total) * 100\n",
        "    plt.text(bar.get_x() + bar.get_width() / 2, altura,\n",
        "             f'{int(quantidade)}\\n({porcentagem:.0f}%)',\n",
        "             ha='center', va='bottom')\n",
        "\n",
        "# Remover números do eixo Y\n",
        "plt.yticks([])\n",
        "\n",
        "# Adicionar títulos e rótulos\n",
        "plt.title('Mercado de Trabalho Categorizado por Escolaridade')\n",
        "plt.xlabel('Escolaridade')\n",
        "plt.ylabel('Quantidade de ocorrências')\n",
        "\n",
        "# Ajustar os rótulos do eixo X\n",
        "plt.xticks(posicoes, grupo_escolaridade['Escolaridade após 2005'])\n",
        "\n",
        "# Exibir o gráfico\n",
        "plt.show()"
      ],
      "metadata": {
        "colab": {
          "base_uri": "https://localhost:8080/",
          "height": 472
        },
        "id": "yf1HAHaHOoMJ",
        "outputId": "5595254c-1af1-406d-9ef6-04383e4d75f8"
      },
      "execution_count": 28,
      "outputs": [
        {
          "output_type": "display_data",
          "data": {
            "text/plain": [
              "<Figure size 640x480 with 1 Axes>"
            ],
            "image/png": "[encoded data removed]"
          },
          "metadata": {}
        }
      ]
    },
    {
      "cell_type": "markdown",
      "source": [
        "A escolaridade dos colaboradores manteve um perfil semelhante nos valores extremos ao observar o setor terciário, com a maior parte (66%) tendo o ensino médio completo, seguido por quem tem o ensino superior completo (12%). Nesse caso, assim como na faixa etária, há uma discrepância maior entre esses dois primeiros grupos (diferença de 54 pontos percentuais) do que no quadro geral (26 pontos percentuais).\n",
        "\n",
        "Outra diferença observada é que aqueles que possuem mestrado representam o segundo menor grupo, enquanto era o terceiro no quadro geral. Revelando que para o comércio, serviços e turismo há quase o dobro de mais analfabetos empregados do que mestres."
      ],
      "metadata": {
        "id": "1ZLoSeJfX9e_"
      }
    },
    {
      "cell_type": "code",
      "source": [
        "# Agrupar por Escolaridade e calcular a média de remuneração\n",
        "grupo_remuneracao = rais2022_prep.groupby('Escolaridade após 2005')['valor_remuneracao_media'].mean().reset_index()\n",
        "\n",
        "# Ordenar por média de remuneração em ordem decrescente\n",
        "grupo_remuneracao = grupo_remuneracao.sort_values(by='valor_remuneracao_media', ascending=False)\n",
        "\n",
        "# Criar a posição das barras\n",
        "posicoes = range(len(grupo_remuneracao['Escolaridade após 2005']))\n",
        "\n",
        "# Criar o gráfico de barras com barras verdes\n",
        "bars = plt.bar(posicoes, grupo_remuneracao['valor_remuneracao_media'], color='green')\n",
        "\n",
        "# Adicionar rótulos de dados\n",
        "for bar in bars:\n",
        "    altura = bar.get_height()\n",
        "    plt.text(bar.get_x() + bar.get_width() / 2, altura,\n",
        "             str(int(altura)),\n",
        "             ha='center', va='bottom')\n",
        "\n",
        "# Adicionar títulos e rótulos\n",
        "plt.title('Média de Remuneração por Escolaridade')\n",
        "plt.xlabel('Escolaridade')\n",
        "plt.ylabel('Média de Remuneração')\n",
        "\n",
        "# Remover números do eixo Y\n",
        "plt.yticks([])\n",
        "\n",
        "# Ajustar os rótulos do eixo X\n",
        "plt.xticks(posicoes, grupo_remuneracao['Escolaridade após 2005'])\n",
        "\n",
        "# Exibir o gráfico\n",
        "plt.show()"
      ],
      "metadata": {
        "colab": {
          "base_uri": "https://localhost:8080/",
          "height": 472
        },
        "id": "FX9yQLAeOzEo",
        "outputId": "6b87f90a-eacb-4a69-a2ff-1819d7531ece"
      },
      "execution_count": 29,
      "outputs": [
        {
          "output_type": "display_data",
          "data": {
            "text/plain": [
              "<Figure size 640x480 with 1 Axes>"
            ],
            "image/png": "[encoded data removed]"
          },
          "metadata": {}
        }
      ]
    },
    {
      "cell_type": "markdown",
      "source": [
        "Mesmo estando em menor quantidade, os que possuem mestrado são exatamente aqueles com maior remuneração média (R$ 18.627). Interessante observar que quem possui ensino superior completo em média recebe salário maior do que quem possui diploma de doutorado, diferença de aproximadamente 15%, uma das explicações possíveis é a escassez de trabalho para esse grupo mais qualificado."
      ],
      "metadata": {
        "id": "gxhENxwuhGJ3"
      }
    },
    {
      "cell_type": "markdown",
      "source": [
        "##### 4.4. Gênero"
      ],
      "metadata": {
        "id": "DDUZQEcV71n9"
      }
    },
    {
      "cell_type": "code",
      "source": [
        "# Agrupar por categoria\n",
        "grupo_genero = rais2022_prep['Sexo Trabalhador'].value_counts().reset_index()\n",
        "grupo_genero.columns = ['Sexo Trabalhador', 'quantidade']\n",
        "\n",
        "# Ordenar por quantidade em ordem decrescente\n",
        "grupo_genero = grupo_genero.sort_values(by='quantidade', ascending=False)\n",
        "\n",
        "# Definir as cores: cinza para homens e rosa para mulheres\n",
        "cores = ['gray', 'pink'] + ['lightblue'] * (len(grupo_genero) - 2)\n",
        "\n",
        "# Formatar os rótulos\n",
        "def rotulo(pct, allvalues):\n",
        "    absolute = int(round(pct / 100. * sum(allvalues)))\n",
        "    return f'{absolute} ({round(pct)}%)'\n",
        "\n",
        "# Criar o gráfico de pizza\n",
        "plt.figure(figsize=(8, 8))\n",
        "plt.pie(grupo_genero['quantidade'], labels=grupo_genero['Sexo Trabalhador'],\n",
        "        autopct=lambda pct: rotulo(pct, grupo_genero['quantidade']),\n",
        "        startangle=90, colors=cores)\n",
        "\n",
        "# Adicionar título\n",
        "plt.title('Mercado de Trabalho Categorizado por Gênero')\n",
        "\n",
        "# Exibir o gráfico\n",
        "plt.axis('equal')\n",
        "plt.show()"
      ],
      "metadata": {
        "colab": {
          "base_uri": "https://localhost:8080/",
          "height": 675
        },
        "id": "RaCrsca7jMDd",
        "outputId": "f675f743-2cd3-48f2-a38b-53c75b21ebd2"
      },
      "execution_count": 30,
      "outputs": [
        {
          "output_type": "display_data",
          "data": {
            "text/plain": [
              "<Figure size 800x800 with 1 Axes>"
            ],
            "image/png": "[encoded data removed]"
          },
          "metadata": {}
        }
      ]
    },
    {
      "cell_type": "markdown",
      "source": [
        "No setor terciário, os homens representam 61% da força de trabalho, frente a 39% para a quantidade de mulheres. Nesse caso, a diferença de representatividade entre funcionários homens e mulheres é de 22 pontos percentuais, maior do que no quadro geral (14 pontos percentuais)."
      ],
      "metadata": {
        "id": "omVwJLHdlHc5"
      }
    },
    {
      "cell_type": "code",
      "source": [
        "# Agrupar por Gênero e calcular a média de remuneração\n",
        "grupo_remuneracao = rais2022_prep.groupby('Sexo Trabalhador')['valor_remuneracao_media'].mean().reset_index()\n",
        "\n",
        "# Ordenar por média de remuneração em ordem decrescente\n",
        "grupo_remuneracao = grupo_remuneracao.sort_values(by='valor_remuneracao_media', ascending=False)\n",
        "\n",
        "# Criar a posição das barras\n",
        "posicoes = range(len(grupo_remuneracao['Sexo Trabalhador']))\n",
        "\n",
        "# Criar o gráfico de barras com barras verdes\n",
        "bars = plt.bar(posicoes, grupo_remuneracao['valor_remuneracao_media'], color='green')\n",
        "\n",
        "# Adicionar rótulos de dados\n",
        "for bar in bars:\n",
        "    altura = bar.get_height()\n",
        "    plt.text(bar.get_x() + bar.get_width() / 2, altura,\n",
        "             f'{altura:.2f}',\n",
        "             ha='center', va='bottom')\n",
        "\n",
        "# Adicionar títulos e rótulos\n",
        "plt.title('Média de Remuneração por Gênero')\n",
        "plt.xlabel('Gênero')\n",
        "plt.ylabel('Média de Remuneração')\n",
        "\n",
        "# Remover números do eixo Y\n",
        "plt.yticks([])\n",
        "\n",
        "# Ajustar os rótulos do eixo X\n",
        "plt.xticks(posicoes, grupo_remuneracao['Sexo Trabalhador'])\n",
        "\n",
        "# Exibir o gráfico\n",
        "plt.show()"
      ],
      "metadata": {
        "colab": {
          "base_uri": "https://localhost:8080/",
          "height": 472
        },
        "id": "BuS1Fu06Qztx",
        "outputId": "375be5e5-e89f-430c-d2b5-078bd953f196"
      },
      "execution_count": 31,
      "outputs": [
        {
          "output_type": "display_data",
          "data": {
            "text/plain": [
              "<Figure size 640x480 with 1 Axes>"
            ],
            "image/png": "[encoded data removed]"
          },
          "metadata": {}
        }
      ]
    },
    {
      "cell_type": "markdown",
      "source": [
        "Pode-se aferir que, além deles terem maior preponderância no mercado de trabalho do comércio, serviços e turismo, também possuem um salário 15% maior do que o público feminino."
      ],
      "metadata": {
        "id": "pjtEVmfDlbuJ"
      }
    },
    {
      "cell_type": "markdown",
      "source": [
        "##### 4.5. CNAE"
      ],
      "metadata": {
        "id": "bX1yXfWo7-98"
      }
    },
    {
      "cell_type": "markdown",
      "source": [
        "Para facilitar na análise e procura das CNAEs, carreguei um arquivo com a listagem das classes das CNAES que peguei também no Ministério do Trabalho.\n",
        "Assim, de acordo com a classe que desejo verificar, basta pesquisar no dicionário."
      ],
      "metadata": {
        "id": "d_XLEQ_CvK8c"
      }
    },
    {
      "cell_type": "code",
      "source": [
        "# Carrega arquivo csv com a codificação correta\n",
        "url = \"https://raw.githubusercontent.com/CatarinaCarneiroSilva/Analise-de-Dados/main/dicionario.csv\"\n",
        "dicionario = pd.read_csv(url, delimiter=';', encoding='ISO-8859-1')\n",
        "print(dicionario.head())"
      ],
      "metadata": {
        "colab": {
          "base_uri": "https://localhost:8080/"
        },
        "id": "y4zhlluqrnBA",
        "outputId": "65424fb4-812d-4e9c-9c9e-3121a0546116"
      },
      "execution_count": 32,
      "outputs": [
        {
          "output_type": "stream",
          "name": "stdout",
          "text": [
            "  CLASSE                CNAE\n",
            "0    900       Não Informada\n",
            "1    977       Não Se Aplica\n",
            "2    988            Inválida\n",
            "3    999            Ignorada\n",
            "4   1113  Cultivo de Cereais\n"
          ]
        }
      ]
    },
    {
      "cell_type": "code",
      "source": [
        "# Contar o número de trabalhadores por CNAE\n",
        "cnae_counts = rais2022_prep['CNAE 2.0 Classe'].value_counts().reset_index()\n",
        "cnae_counts.columns = ['CNAE 2.0 Classe', 'quantidade']\n",
        "\n",
        "# CNAE com mais e menos trabalhadores\n",
        "cnae_max = cnae_counts.loc[cnae_counts['quantidade'].idxmax()]\n",
        "cnae_min = cnae_counts.loc[cnae_counts['quantidade'].idxmin()]\n",
        "\n",
        "print(f'A CNAE com mais trabalhadores é {cnae_max[\"CNAE 2.0 Classe\"]} com {cnae_max[\"quantidade\"]} trabalhadores.')\n",
        "print(f'A CNAE com menos trabalhadores é {cnae_min[\"CNAE 2.0 Classe\"]} com {cnae_min[\"quantidade\"]} trabalhadores.')"
      ],
      "metadata": {
        "colab": {
          "base_uri": "https://localhost:8080/"
        },
        "id": "5em9mth4mDHd",
        "outputId": "8912dbc4-e4b0-4ba9-ac89-6829cdf50221"
      },
      "execution_count": 34,
      "outputs": [
        {
          "output_type": "stream",
          "name": "stdout",
          "text": [
            "A CNAE com mais trabalhadores é 47113 com 10880 trabalhadores.\n",
            "A CNAE com menos trabalhadores é 58123 com 1 trabalhadores.\n"
          ]
        }
      ]
    },
    {
      "cell_type": "code",
      "source": [
        "# Função para buscar a descrição da CNAE\n",
        "def buscar_cnae(cnae):\n",
        "    resultado = dicionario[dicionario['CLASSE'] == cnae]\n",
        "    if not resultado.empty:\n",
        "        return resultado\n",
        "    else:\n",
        "        return 'CNAE não encontrado.'\n",
        "\n",
        "# Exemplo de uso\n",
        "cnae_digitado = input('Digite a classe CNAE: ')\n",
        "descricao = buscar_cnae(cnae_digitado)\n",
        "print(buscar_cnae(cnae_digitado).to_string(index=False))"
      ],
      "metadata": {
        "colab": {
          "base_uri": "https://localhost:8080/"
        },
        "id": "7KUd1dM_s7Aa",
        "outputId": "29f04c89-38b3-4a5d-aab1-431ef4862d23"
      },
      "execution_count": 35,
      "outputs": [
        {
          "output_type": "stream",
          "name": "stdout",
          "text": [
            "Digite a classe CNAE: 58123\n",
            "CLASSE              CNAE\n",
            " 58123 Edição de Jornais\n"
          ]
        }
      ]
    },
    {
      "cell_type": "markdown",
      "source": [
        "A classe 47113 representa o \"Comércio Varejista de Mercadorias em Geral, com Predominância de Produtos Alimentícios - Hipermercados e Supermercados\", mostrando que esse segmento representa o maior contratante do setor terciário, com 10.880 funcionários no Estado.\n",
        "\n",
        "Enquanto a classe 58123 representa a \"Edição de Jornais\", tendo a menor quantidade de funcionário (1), coerente com uma momento em que as mídias socias e o mundo digital vem se intensificando."
      ],
      "metadata": {
        "id": "4BJTMjNrmhAu"
      }
    },
    {
      "cell_type": "code",
      "source": [
        "# Agrupar por CNAE e calcular a média da remuneração\n",
        "cnae_remuneracao_media = rais2022_prep.groupby('CNAE 2.0 Classe')['valor_remuneracao_media'].mean().reset_index()\n",
        "\n",
        "# Encontrar o CNAE com a maior e menor remuneração\n",
        "cnae_max_remuneracao = cnae_remuneracao_media.loc[cnae_remuneracao_media['valor_remuneracao_media'].idxmax()]\n",
        "cnae_min_remuneracao = cnae_remuneracao_media.loc[cnae_remuneracao_media['valor_remuneracao_media'].idxmin()]\n",
        "\n",
        "print(f'A CNAE com a maior remuneração média é {cnae_max_remuneracao[\"CNAE 2.0 Classe\"]} com R$ {cnae_max_remuneracao[\"valor_remuneracao_media\"]:.2f}.')\n",
        "print(f'A CNAE com a menor remuneração média é {cnae_min_remuneracao[\"CNAE 2.0 Classe\"]} com R$ {cnae_min_remuneracao[\"valor_remuneracao_media\"]:.2f}.')"
      ],
      "metadata": {
        "colab": {
          "base_uri": "https://localhost:8080/"
        },
        "id": "5__6cPrJnjWL",
        "outputId": "9935b1c7-1541-4732-8f64-7cc25675d676"
      },
      "execution_count": 36,
      "outputs": [
        {
          "output_type": "stream",
          "name": "stdout",
          "text": [
            "A CNAE com a maior remuneração média é 64239.0 com R$ 41069.14.\n",
            "A CNAE com a menor remuneração média é 58212.0 com R$ 1175.03.\n"
          ]
        }
      ]
    },
    {
      "cell_type": "code",
      "source": [
        "# Função para buscar a descrição da CNAE\n",
        "def buscar_cnae(cnae):\n",
        "    resultado = dicionario[dicionario['CLASSE'] == cnae]\n",
        "    if not resultado.empty:\n",
        "        return resultado\n",
        "    else:\n",
        "        return 'CNAE não encontrado.'\n",
        "\n",
        "# Exemplo de uso\n",
        "cnae_digitado = input('Digite a classe CNAE: ')\n",
        "descricao = buscar_cnae(cnae_digitado)\n",
        "print(buscar_cnae(cnae_digitado).to_string(index=False))"
      ],
      "metadata": {
        "colab": {
          "base_uri": "https://localhost:8080/"
        },
        "id": "_HKWAw-EvrM5",
        "outputId": "976e0859-1931-42e2-ee9d-c9ef4b7930cd"
      },
      "execution_count": 37,
      "outputs": [
        {
          "output_type": "stream",
          "name": "stdout",
          "text": [
            "Digite a classe CNAE: 64239\n",
            "CLASSE              CNAE\n",
            " 64239 Caixas Econômicas\n"
          ]
        }
      ]
    },
    {
      "cell_type": "markdown",
      "source": [
        "A classe 64239 representa as \"Caixas Econômicas\". Era esperado que uma função relacionada ao mercado financeiro seria a de maior remuneração, o fato de ser um estabelecimento público também ajuda a explicar os maiores salários.\n",
        "Enquanto a classe 58212 representa \"Edição Integrada à Impressão de Livros\", que sofre do mesmo problema da edição de jornais, com a maior procura por livros digitais."
      ],
      "metadata": {
        "id": "bNS1NlJioF7F"
      }
    },
    {
      "cell_type": "markdown",
      "source": [
        "##### 4.6. Remuneração"
      ],
      "metadata": {
        "id": "1q5wVTQr8JFz"
      }
    },
    {
      "cell_type": "code",
      "source": [
        "variaveis_selecionadas = ['valor_remuneracao_media', 'Escolaridade após 2005', 'Faixa Etária', 'Sexo Trabalhador']\n",
        "correlacao = rais2022_prep[variaveis_selecionadas].corr()['valor_remuneracao_media'].sort_values(ascending=False)\n",
        "print(correlacao)"
      ],
      "metadata": {
        "colab": {
          "base_uri": "https://localhost:8080/"
        },
        "id": "_bzj6epy-zkM",
        "outputId": "c5f59615-8b26-4654-f634-acd1d16a347d"
      },
      "execution_count": 38,
      "outputs": [
        {
          "output_type": "stream",
          "name": "stdout",
          "text": [
            "valor_remuneracao_media    1.00\n",
            "Escolaridade após 2005     0.14\n",
            "Faixa Etária               0.07\n",
            "Sexo Trabalhador          -0.02\n",
            "Name: valor_remuneracao_media, dtype: float64\n"
          ]
        }
      ]
    },
    {
      "cell_type": "markdown",
      "source": [
        "Ao analisar as correlações, quanto maior a escolaridade, maior será a remuneração. O mesmo efeito ocorre na faixa etária, com os funcionários mais velhos recebendo salários maiores, o que já havia sido observado nas análises dos dados, no entanto com influência menor do que o nível educacional.\n",
        "\n",
        "Já em relação ao gênero, as mulheres tendem a recebem remunerações menores, dado que a correlação é negativa e elas representam o grupo de maior nhúmero (2). No entanto, o efeito não é tão grande quando das outras variáveis.\n",
        "\n",
        "A raça e as CNAES não foram adicionadas porque não há uma ordem numeral clara para analisar."
      ],
      "metadata": {
        "id": "Ga4T6YcF_3OO"
      }
    },
    {
      "cell_type": "markdown",
      "metadata": {
        "id": "mE4-PIaTAfKX"
      },
      "source": [
        "#### 5. Avaliação de Resultados"
      ]
    },
    {
      "cell_type": "markdown",
      "source": [
        "Após a preparação e análise dos dados do mercado de trabalho para a Paraíba no setor de comércio, serviços e turismo em 2022, verificou-se que a maior parte dos trabalhadores se identifica como Parda (67%). No entanto, esse grupo apresenta a menor remuneração média (R\\$ 2.494,29), enquanto os trabalhadores brancos recebem os salários mais elevados (R$ 4.351,12), quase 30% a mais do que o segundo grupo mais bem remunerado, os amarelos.\n",
        "\n",
        "Em termos de faixa etária, mais da metade dos funcionários (54%) tem entre 30 e 49 anos, sendo que aqueles entre 30 e 39 anos superam os de 40 a 49 anos por 12 pontos percentuais. Os indicadores de correlação mostraram que, embora a remuneração média aumente com a idade, o nível educacional é a variável com maior impacto sobre os salários.\n",
        "\n",
        "A maioria dos trabalhadores (66%) possui o ensino médio completo, seguido por 12% com ensino superior completo, refletindo uma grande discrepância, de 54 pontos percentuais, entre os dois primeiros grupos. Um dado que chama a atenção é o fato de que pessoas com mestrado e doutorado representam os menores grupos de trabalhadores, o que revela uma realidade peculiar no setor terciário, onde há mais analfabetos empregados do que mestres. Apesar de sua baixa representatividade, aqueles com mestrado recebem as maiores remunerações médias (R$ 18.627). Curiosamente, trabalhadores com ensino superior completo têm salários médios superiores aos daqueles com doutorado, possivelmente devido à falta de oportunidades adequadas para esse grupo altamente qualificado. De forma geral, os dados confirmam que quanto maior a escolaridade, maior a remuneração, sendo o item de maior influência.\n",
        "\n",
        "No que tange à representatividade de gênero, os homens dominam o mercado de trabalho no setor terciário, com uma diferença de 22 pontos percentuais em relação às mulheres, além de receberem salários 15% superiores. A correlação negativa entre gênero e remuneração mostra a tendência de salários mais baixos para as mulheres, embora a influência dessa variável seja menos significativa em comparação a outras analisadas.\n",
        "\n",
        "Em termos de setores específicos, o \"Comércio Varejista de Mercadorias em Geral, com Predominância de Produtos Alimentícios - Hipermercados e Supermercados\" foi o maior empregador em 2022, enquanto a \"Edição de Jornais\" teve o menor número de funcionários. No que diz respeito às remunerações, as \"Caixas Econômicas\" ofereceram os maiores salários, enquanto a \"Edição Integrada à Impressão de Livros\" apresentou os menores valores.\n",
        "\n",
        "Esses resultados refletem apenas a realidade do estado da Paraíba e do setor de comércio, serviços e turismo. Para uma análise mais abrangente, seria relevante expandir o estudo para o nível nacional e incluir outras atividades econômicas, verificando se as características do mercado de trabalho observadas se mantêm em diferentes contextos. No entanto, os achados deste estudo já evidenciam importantes desigualdades de raça, gênero e educação, que devem ser considerados ao discutir políticas públicas e estratégias empresariais para a melhoria do mercado de trabalho."
      ],
      "metadata": {
        "id": "YBUGapA-EpCp"
      }
    }
  ],
  "metadata": {
    "colab": {
      "provenance": [],
      "toc_visible": true,
      "include_colab_link": true
    },
    "kernelspec": {
      "display_name": "Python 3",
      "name": "python3"
    }
  },
  "nbformat": 4,
  "nbformat_minor": 0
}